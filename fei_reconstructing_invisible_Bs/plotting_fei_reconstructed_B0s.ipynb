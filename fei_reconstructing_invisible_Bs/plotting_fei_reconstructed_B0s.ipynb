{
 "cells": [
  {
   "cell_type": "markdown",
   "metadata": {},
   "source": [
    "# Were the B0s correctly reconstructed?\n",
    "We can find out by plotting the distribution of the `Mbc` which should peak at the B meson mass"
   ]
  },
  {
   "cell_type": "code",
   "execution_count": 1,
   "metadata": {},
   "outputs": [
    {
     "name": "stdout",
     "output_type": "stream",
     "text": [
      "Welcome to JupyROOT 6.20/04\n"
     ]
    }
   ],
   "source": [
    "# Include this only if running in a Jupyter notebook\n",
    "%matplotlib inline\n",
    "\n",
    "import matplotlib.pyplot as plt\n",
    "from root_pandas import read_root"
   ]
  },
  {
   "cell_type": "code",
   "execution_count": 2,
   "metadata": {},
   "outputs": [],
   "source": [
    "filenumber = 0\n",
    "filename = f\"FEI_B_charged_hadronic_{filenumber}.root\""
   ]
  },
  {
   "cell_type": "code",
   "execution_count": 4,
   "metadata": {},
   "outputs": [
    {
     "data": {
      "text/html": [
       "<div>\n",
       "<style scoped>\n",
       "    .dataframe tbody tr th:only-of-type {\n",
       "        vertical-align: middle;\n",
       "    }\n",
       "\n",
       "    .dataframe tbody tr th {\n",
       "        vertical-align: top;\n",
       "    }\n",
       "\n",
       "    .dataframe thead th {\n",
       "        text-align: right;\n",
       "    }\n",
       "</style>\n",
       "<table border=\"1\" class=\"dataframe\">\n",
       "  <thead>\n",
       "    <tr style=\"text-align: right;\">\n",
       "      <th></th>\n",
       "      <th>__experiment__</th>\n",
       "      <th>__run__</th>\n",
       "      <th>__event__</th>\n",
       "      <th>__candidate__</th>\n",
       "      <th>__ncandidates__</th>\n",
       "      <th>__weight__</th>\n",
       "      <th>Mbc</th>\n",
       "      <th>deltaE</th>\n",
       "      <th>decayModeID</th>\n",
       "      <th>SigProb</th>\n",
       "      <th>mcErrors</th>\n",
       "      <th>isSignal</th>\n",
       "      <th>FEIProbRank</th>\n",
       "    </tr>\n",
       "  </thead>\n",
       "  <tbody>\n",
       "    <tr>\n",
       "      <th>0</th>\n",
       "      <td>1003</td>\n",
       "      <td>0</td>\n",
       "      <td>1</td>\n",
       "      <td>0</td>\n",
       "      <td>17</td>\n",
       "      <td>1.0</td>\n",
       "      <td>5.272284</td>\n",
       "      <td>0.191716</td>\n",
       "      <td>28.0</td>\n",
       "      <td>2.179087e-04</td>\n",
       "      <td>304.0</td>\n",
       "      <td>0.0</td>\n",
       "      <td>2.0</td>\n",
       "    </tr>\n",
       "    <tr>\n",
       "      <th>1</th>\n",
       "      <td>1003</td>\n",
       "      <td>0</td>\n",
       "      <td>1</td>\n",
       "      <td>1</td>\n",
       "      <td>17</td>\n",
       "      <td>1.0</td>\n",
       "      <td>5.229051</td>\n",
       "      <td>-0.038224</td>\n",
       "      <td>26.0</td>\n",
       "      <td>1.818618e-04</td>\n",
       "      <td>432.0</td>\n",
       "      <td>0.0</td>\n",
       "      <td>3.0</td>\n",
       "    </tr>\n",
       "    <tr>\n",
       "      <th>2</th>\n",
       "      <td>1003</td>\n",
       "      <td>0</td>\n",
       "      <td>1</td>\n",
       "      <td>2</td>\n",
       "      <td>17</td>\n",
       "      <td>1.0</td>\n",
       "      <td>5.261985</td>\n",
       "      <td>0.271724</td>\n",
       "      <td>28.0</td>\n",
       "      <td>6.043832e-05</td>\n",
       "      <td>304.0</td>\n",
       "      <td>0.0</td>\n",
       "      <td>4.0</td>\n",
       "    </tr>\n",
       "    <tr>\n",
       "      <th>3</th>\n",
       "      <td>1003</td>\n",
       "      <td>0</td>\n",
       "      <td>1</td>\n",
       "      <td>3</td>\n",
       "      <td>17</td>\n",
       "      <td>1.0</td>\n",
       "      <td>5.216648</td>\n",
       "      <td>0.159208</td>\n",
       "      <td>26.0</td>\n",
       "      <td>4.796307e-05</td>\n",
       "      <td>432.0</td>\n",
       "      <td>0.0</td>\n",
       "      <td>5.0</td>\n",
       "    </tr>\n",
       "    <tr>\n",
       "      <th>4</th>\n",
       "      <td>1003</td>\n",
       "      <td>0</td>\n",
       "      <td>1</td>\n",
       "      <td>4</td>\n",
       "      <td>17</td>\n",
       "      <td>1.0</td>\n",
       "      <td>5.273010</td>\n",
       "      <td>-0.063690</td>\n",
       "      <td>26.0</td>\n",
       "      <td>4.644469e-05</td>\n",
       "      <td>432.0</td>\n",
       "      <td>0.0</td>\n",
       "      <td>6.0</td>\n",
       "    </tr>\n",
       "    <tr>\n",
       "      <th>...</th>\n",
       "      <td>...</td>\n",
       "      <td>...</td>\n",
       "      <td>...</td>\n",
       "      <td>...</td>\n",
       "      <td>...</td>\n",
       "      <td>...</td>\n",
       "      <td>...</td>\n",
       "      <td>...</td>\n",
       "      <td>...</td>\n",
       "      <td>...</td>\n",
       "      <td>...</td>\n",
       "      <td>...</td>\n",
       "      <td>...</td>\n",
       "    </tr>\n",
       "    <tr>\n",
       "      <th>61304</th>\n",
       "      <td>1003</td>\n",
       "      <td>0</td>\n",
       "      <td>10000</td>\n",
       "      <td>3</td>\n",
       "      <td>8</td>\n",
       "      <td>1.0</td>\n",
       "      <td>5.269134</td>\n",
       "      <td>0.225321</td>\n",
       "      <td>28.0</td>\n",
       "      <td>1.338211e-04</td>\n",
       "      <td>376.0</td>\n",
       "      <td>0.0</td>\n",
       "      <td>1.0</td>\n",
       "    </tr>\n",
       "    <tr>\n",
       "      <th>61305</th>\n",
       "      <td>1003</td>\n",
       "      <td>0</td>\n",
       "      <td>10000</td>\n",
       "      <td>4</td>\n",
       "      <td>8</td>\n",
       "      <td>1.0</td>\n",
       "      <td>5.274943</td>\n",
       "      <td>0.152393</td>\n",
       "      <td>28.0</td>\n",
       "      <td>7.318096e-05</td>\n",
       "      <td>376.0</td>\n",
       "      <td>0.0</td>\n",
       "      <td>2.0</td>\n",
       "    </tr>\n",
       "    <tr>\n",
       "      <th>61306</th>\n",
       "      <td>1003</td>\n",
       "      <td>0</td>\n",
       "      <td>10000</td>\n",
       "      <td>5</td>\n",
       "      <td>8</td>\n",
       "      <td>1.0</td>\n",
       "      <td>5.280323</td>\n",
       "      <td>0.194066</td>\n",
       "      <td>28.0</td>\n",
       "      <td>4.640121e-06</td>\n",
       "      <td>504.0</td>\n",
       "      <td>0.0</td>\n",
       "      <td>6.0</td>\n",
       "    </tr>\n",
       "    <tr>\n",
       "      <th>61307</th>\n",
       "      <td>1003</td>\n",
       "      <td>0</td>\n",
       "      <td>10000</td>\n",
       "      <td>6</td>\n",
       "      <td>8</td>\n",
       "      <td>1.0</td>\n",
       "      <td>5.212812</td>\n",
       "      <td>0.402079</td>\n",
       "      <td>26.0</td>\n",
       "      <td>5.525101e-07</td>\n",
       "      <td>504.0</td>\n",
       "      <td>0.0</td>\n",
       "      <td>7.0</td>\n",
       "    </tr>\n",
       "    <tr>\n",
       "      <th>61308</th>\n",
       "      <td>1003</td>\n",
       "      <td>0</td>\n",
       "      <td>10000</td>\n",
       "      <td>7</td>\n",
       "      <td>8</td>\n",
       "      <td>1.0</td>\n",
       "      <td>5.249876</td>\n",
       "      <td>0.334811</td>\n",
       "      <td>26.0</td>\n",
       "      <td>2.592669e-07</td>\n",
       "      <td>504.0</td>\n",
       "      <td>0.0</td>\n",
       "      <td>8.0</td>\n",
       "    </tr>\n",
       "  </tbody>\n",
       "</table>\n",
       "<p>61309 rows × 13 columns</p>\n",
       "</div>"
      ],
      "text/plain": [
       "       __experiment__  __run__  __event__  __candidate__  __ncandidates__  \\\n",
       "0                1003        0          1              0               17   \n",
       "1                1003        0          1              1               17   \n",
       "2                1003        0          1              2               17   \n",
       "3                1003        0          1              3               17   \n",
       "4                1003        0          1              4               17   \n",
       "...               ...      ...        ...            ...              ...   \n",
       "61304            1003        0      10000              3                8   \n",
       "61305            1003        0      10000              4                8   \n",
       "61306            1003        0      10000              5                8   \n",
       "61307            1003        0      10000              6                8   \n",
       "61308            1003        0      10000              7                8   \n",
       "\n",
       "       __weight__       Mbc    deltaE  decayModeID       SigProb  mcErrors  \\\n",
       "0             1.0  5.272284  0.191716         28.0  2.179087e-04     304.0   \n",
       "1             1.0  5.229051 -0.038224         26.0  1.818618e-04     432.0   \n",
       "2             1.0  5.261985  0.271724         28.0  6.043832e-05     304.0   \n",
       "3             1.0  5.216648  0.159208         26.0  4.796307e-05     432.0   \n",
       "4             1.0  5.273010 -0.063690         26.0  4.644469e-05     432.0   \n",
       "...           ...       ...       ...          ...           ...       ...   \n",
       "61304         1.0  5.269134  0.225321         28.0  1.338211e-04     376.0   \n",
       "61305         1.0  5.274943  0.152393         28.0  7.318096e-05     376.0   \n",
       "61306         1.0  5.280323  0.194066         28.0  4.640121e-06     504.0   \n",
       "61307         1.0  5.212812  0.402079         26.0  5.525101e-07     504.0   \n",
       "61308         1.0  5.249876  0.334811         26.0  2.592669e-07     504.0   \n",
       "\n",
       "       isSignal  FEIProbRank  \n",
       "0           0.0          2.0  \n",
       "1           0.0          3.0  \n",
       "2           0.0          4.0  \n",
       "3           0.0          5.0  \n",
       "4           0.0          6.0  \n",
       "...         ...          ...  \n",
       "61304       0.0          1.0  \n",
       "61305       0.0          2.0  \n",
       "61306       0.0          6.0  \n",
       "61307       0.0          7.0  \n",
       "61308       0.0          8.0  \n",
       "\n",
       "[61309 rows x 13 columns]"
      ]
     },
     "execution_count": 4,
     "metadata": {},
     "output_type": "execute_result"
    }
   ],
   "source": [
    "df = read_root(filename)\n",
    "df"
   ]
  },
  {
   "cell_type": "markdown",
   "metadata": {},
   "source": [
    "We will just plot in the range 5.15 – 5.3 GeV."
   ]
  },
  {
   "cell_type": "code",
   "execution_count": 3,
   "metadata": {},
   "outputs": [
    {
     "name": "stderr",
     "output_type": "stream",
     "text": [
      "/cvmfs/belle.cern.ch/el7/externals/v01-09-01/Linux_x86_64/common/lib/python3.6/site-packages/numpy/lib/histograms.py:839: RuntimeWarning: invalid value encountered in greater_equal\n",
      "  keep = (tmp_a >= first_edge)\n",
      "/cvmfs/belle.cern.ch/el7/externals/v01-09-01/Linux_x86_64/common/lib/python3.6/site-packages/numpy/lib/histograms.py:840: RuntimeWarning: invalid value encountered in less_equal\n",
      "  keep &= (tmp_a <= last_edge)\n"
     ]
    },
    {
     "data": {
      "text/plain": [
       "Text(0, 0.5, 'Number of candidates')"
      ]
     },
     "execution_count": 3,
     "metadata": {},
     "output_type": "execute_result"
    },
    {
     "data": {
      "image/png": "[encoded data removed]",
      "text/plain": [
       "<Figure size 432x288 with 1 Axes>"
      ]
     },
     "metadata": {
      "needs_background": "light"
     },
     "output_type": "display_data"
    }
   ],
   "source": [
    "fig, ax = plt.subplots()\n",
    "n, bins, patches = ax.hist(df['Mbc'], bins=30, range=(5.15, 5.3))\n",
    "ax.set_xlabel(r'$\\mathrm{M}_{\\mathrm{bc}}$ in GeV/c^2')\n",
    "ax.set_ylabel('Number of candidates')"
   ]
  },
  {
   "cell_type": "markdown",
   "metadata": {},
   "source": [
    "The distribution doesn't look correct because we are not even querying the particles with the highest probabilities:"
   ]
  },
  {
   "cell_type": "code",
   "execution_count": 9,
   "metadata": {},
   "outputs": [
    {
     "data": {
      "text/plain": [
       "<matplotlib.legend.Legend at 0x7f88ab8bdd30>"
      ]
     },
     "execution_count": 9,
     "metadata": {},
     "output_type": "execute_result"
    },
    {
     "data": {
      "image/png": "[encoded data removed]",
      "text/plain": [
       "<Figure size 432x288 with 1 Axes>"
      ]
     },
     "metadata": {
      "needs_background": "light"
     },
     "output_type": "display_data"
    }
   ],
   "source": [
    "# query\n",
    "sig_prob_cut_df = df.query('(SigProb > 0.01) & (FEIProbRank == 1)')\n",
    "correct_results_mc = df.query(\"isSignal == 1\")\n",
    "\n",
    "# plot\n",
    "fig, ax = plt.subplots()\n",
    "ax.hist(sig_prob_cut_df['Mbc'], bins=30, range=(5.15, 5.3), label=\"FEI\", alpha=0.6)\n",
    "ax.hist(correct_results_mc['Mbc'], bins=30, range=(5.15, 5.3), label=\"B0\", alpha=0.6)\n",
    "ax.set_xlabel(r'$\\mathrm{M}_{\\mathrm{bc}}$ in GeV/c^2')\n",
    "ax.set_ylabel('Total number of candidates')\n",
    "ax.set_title('SigProb > 0.01')\n",
    "ax.legend()"
   ]
  },
  {
   "cell_type": "code",
   "execution_count": null,
   "metadata": {},
   "outputs": [],
   "source": []
  }
 ],
 "metadata": {
  "kernelspec": {
   "display_name": "Python 3 (Belle2)",
   "language": "python",
   "name": "python3"
  },
  "language_info": {
   "codemirror_mode": {
    "name": "ipython",
    "version": 3
   },
   "file_extension": ".py",
   "mimetype": "text/x-python",
   "name": "python",
   "nbconvert_exporter": "python",
   "pygments_lexer": "ipython3",
   "version": "3.6.10"
  }
 },
 "nbformat": 4,
 "nbformat_minor": 4
}
