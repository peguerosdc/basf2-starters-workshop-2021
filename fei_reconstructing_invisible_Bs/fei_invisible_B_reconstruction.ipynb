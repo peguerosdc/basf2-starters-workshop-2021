{
 "cells": [
  {
   "cell_type": "markdown",
   "metadata": {},
   "source": [
    "# Full Event Interpretation\n",
    "FEI allows us to reconstruct a tag (the \"pair\" of a particle of interest) with the data of the reconstructed particle. We can use it in the end to reconstruct decay channels involving invisible particles (i.e. neutrinos)\n",
    "\n",
    "In this exercise, FEI will be used to reconsruct a $B^{+}_{tag}$"
   ]
  },
  {
   "cell_type": "code",
   "execution_count": 1,
   "metadata": {},
   "outputs": [
    {
     "name": "stdout",
     "output_type": "stream",
     "text": [
      "Welcome to JupyROOT 6.20/04\n"
     ]
    }
   ],
   "source": [
    "import basf2 as b2\n",
    "import modularAnalysis as ma\n",
    "import fei\n",
    "from variables import variables as vm \n",
    "import variables.collections as vc"
   ]
  },
  {
   "cell_type": "code",
   "execution_count": 2,
   "metadata": {},
   "outputs": [],
   "source": [
    "filenumber = 0"
   ]
  },
  {
   "cell_type": "markdown",
   "metadata": {},
   "source": [
    "Use an example file as input"
   ]
  },
  {
   "cell_type": "code",
   "execution_count": 3,
   "metadata": {},
   "outputs": [],
   "source": [
    "main = b2.Path()\n",
    "# load input data from mdst/udst file\n",
    "ma.inputMdst(\n",
    "    environmentType=\"default\",\n",
    "    filename=b2.find_file(f\"starterkit/2021/1111540100_eph3_BGx0_{filenumber}.root\", \"examples\"),\n",
    "    path=main,\n",
    ")"
   ]
  },
  {
   "cell_type": "markdown",
   "metadata": {},
   "source": [
    "Load the recommended weight files according to:\n",
    "\n",
    "`$ b2conditionsdb-recommend /group/belle2/users/tenchini/prerelease-05-00-00a/charged/charged_eph3_BGx0_{filenumber}.root`"
   ]
  },
  {
   "cell_type": "code",
   "execution_count": 4,
   "metadata": {},
   "outputs": [],
   "source": [
    "tag = \"analysis_tools_release-04-02\"\n",
    "b2.conditions.globaltags = [tag]"
   ]
  },
  {
   "cell_type": "markdown",
   "metadata": {},
   "source": [
    "In this example, we are only reconstructing charged B mesons, so it is convenient to select only those channels to speed up the FEI"
   ]
  },
  {
   "cell_type": "code",
   "execution_count": 5,
   "metadata": {},
   "outputs": [],
   "source": [
    "particles = fei.get_default_channels(\n",
    "    chargedB = True,\n",
    "    neutralB = False,\n",
    "    hadronic = True,\n",
    "    semileptonic = False,\n",
    "    baryonic = True\n",
    ")"
   ]
  },
  {
   "cell_type": "markdown",
   "metadata": {},
   "source": [
    "Set up FEI configuration specifying the FEI prefix and disabling monitoring (as we are not interested in monitoring the performance)"
   ]
  },
  {
   "cell_type": "code",
   "execution_count": 6,
   "metadata": {},
   "outputs": [],
   "source": [
    "configuration = fei.FeiConfiguration(\n",
    "    prefix=\"FEIv4_2020_MC13_release_04_01_01\", monitor=False\n",
    ")"
   ]
  },
  {
   "cell_type": "markdown",
   "metadata": {},
   "source": [
    "Now, we need to translate that configuration to a path to be appended to the main path"
   ]
  },
  {
   "cell_type": "code",
   "execution_count": 7,
   "metadata": {},
   "outputs": [
    {
     "name": "stdout",
     "output_type": "stream",
     "text": [
      "\n",
      "    ____ _  _ _    _       ____ _  _ ____ _  _ ___    _ _  _ ___ ____ ____ ___  ____ ____ ___ ____ ___ _ ____ _  _\n",
      "    |___ |  | |    |       |___ |  | |___ |\\ |  |     | |\\ |  |  |___ |__/ |__] |__/ |___  |  |__|  |  | |  | |\\ |\n",
      "    |    |__| |___ |___    |___  \\/  |___ | \\|  |     | | \\|  |  |___ |  \\ |    |  \\ |___  |  |  |  |  | |__| | \\|\n",
      "\n",
      "    Author: Thomas Keck 2014 - 2017\n",
      "    Please cite my PhD thesis\n",
      "    \n",
      "Stage 0: Load FSP particles\n",
      "Stage 0: PreReconstruct particles:  ['pi+', 'K+', 'p+', 'mu+', 'e+', 'gamma']\n",
      "Stage 1: PreReconstruct particles:  ['pi0', 'Lambda0', 'J/psi']\n",
      "Stage 2: PreReconstruct particles:  ['K_S0', 'Sigma+']\n",
      "[INFO] Ignoring vertex fit because multiple pi0 are not supported yet K_S0:generic_1.\n",
      "\u001b[mStage 3: PreReconstruct particles:  ['D0', 'D+', 'D_s+', 'Lambda_c+']\n",
      "[INFO] Ignoring vertex fit because multiple pi0 are not supported yet D0:generic_2.\n",
      "\u001b[m[INFO] Ignoring vertex fit because multiple pi0 are not supported yet D0:generic_8.\n",
      "\u001b[m[INFO] Ignoring vertex fit because multiple pi0 are not supported yet Lambda_c+:generic_4.\n",
      "\u001b[mStage 4: PreReconstruct particles:  ['D*0', 'D*+', 'D_s*+']\n",
      "Stage 5: PreReconstruct particles:  ['B+']\n",
      "[INFO] Ignoring vertex fit because multiple pi0 are not supported yet B+:generic_2.\n",
      "\u001b[m[INFO] Ignoring vertex fit because multiple pi0 are not supported yet B+:generic_17.\n",
      "\u001b[mStage 6: PreReconstruct particles:  []\n"
     ]
    }
   ],
   "source": [
    "# Get FEI path\n",
    "feistate = fei.get_path(particles, configuration)\n",
    "\n",
    "# Add FEI path to the path to be processed\n",
    "main.add_path(feistate.path)"
   ]
  },
  {
   "cell_type": "markdown",
   "metadata": {},
   "source": [
    "After adding the FEI to the path, the tags are added to a particle list called `B+:generic`. Now, we want to add Monte Carlo matching and create variable aliases for the `extraInfos` created by the FEI."
   ]
  },
  {
   "cell_type": "code",
   "execution_count": 8,
   "metadata": {},
   "outputs": [
    {
     "data": {
      "text/plain": [
       "True"
      ]
     },
     "execution_count": 8,
     "metadata": {},
     "output_type": "execute_result"
    }
   ],
   "source": [
    "# match reconstructed with MC particles\n",
    "ma.matchMCTruth(\"B+:generic\", path=main)\n",
    "# add aliases\n",
    "vm.addAlias(\"decayModeID\", \"extraInfo(decayModeID)\")\n",
    "vm.addAlias(\"SigProb\", \"extraInfo(SignalProbability)\")"
   ]
  },
  {
   "cell_type": "markdown",
   "metadata": {},
   "source": [
    "In this case, it makes sense to rank the reconstructed B mesons (as the process won't be perfect) to pick the bests for our analysis, which can be done using the variable `extraInfo(SignalProbability)`"
   ]
  },
  {
   "cell_type": "code",
   "execution_count": 9,
   "metadata": {},
   "outputs": [
    {
     "data": {
      "text/plain": [
       "True"
      ]
     },
     "execution_count": 9,
     "metadata": {},
     "output_type": "execute_result"
    }
   ],
   "source": [
    "# Rank B+ candidates by signal classifier output\n",
    "ma.rankByHighest(\n",
    "    particleList=\"B+:generic\",\n",
    "    variable=\"extraInfo(SignalProbability)\",\n",
    "    outputVariable=\"FEIProbabilityRank\",\n",
    "    path=main,\n",
    ")\n",
    "vm.addAlias(\"FEIProbRank\", \"extraInfo(FEIProbabilityRank)\")"
   ]
  },
  {
   "cell_type": "markdown",
   "metadata": {},
   "source": [
    "Finally, we will store these variables (along with some others of interest) in a root file"
   ]
  },
  {
   "cell_type": "code",
   "execution_count": 10,
   "metadata": {},
   "outputs": [],
   "source": [
    "filename = f\"FEI_B_charged_hadronic_{filenumber}.root\"\n",
    "# select interesting variables\n",
    "b_vars = [\"Mbc\", \"deltaE\"]\n",
    "# add created alises\n",
    "b_vars += [\"decayModeID\", \"SigProb\"]\n",
    "# add MC variables\n",
    "b_vars += [\"mcErrors\", \"isSignal\"]\n",
    "# add ranking\n",
    "b_vars += [\"FEIProbRank\"]\n",
    "# store results in a root file\n",
    "ma.variablesToNtuple(\n",
    "    decayString=\"B+:generic\", variables=b_vars,\n",
    "    filename=filename,\n",
    "    treename=\"tree\",\n",
    "    path=main\n",
    ")"
   ]
  },
  {
   "cell_type": "code",
   "execution_count": 11,
   "metadata": {},
   "outputs": [
    {
     "name": "stdout",
     "output_type": "stream",
     "text": [
      "Storing results in FEI_B_charged_hadronic_0.root...\n"
     ]
    },
    {
     "data": {
      "application/vnd.jupyter.widget-view+json": {
       "model_id": "81865c8ec83048bc8976ce6f546007d7",
       "version_major": 2,
       "version_minor": 0
      },
      "text/plain": [
       "VBox(children=(FloatProgress(value=0.0, layout=Layout(height='40px', width='100%'), max=1.0), Label(value=''))…"
      ]
     },
     "metadata": {},
     "output_type": "display_data"
    },
    {
     "data": {
      "application/vnd.jupyter.widget-view+json": {
       "model_id": "26536379a7f048f0934d42f958c4eb09",
       "version_major": 2,
       "version_minor": 0
      },
      "text/plain": [
       "VBox(children=(HBox(children=(HTML(value='<a onclick=\"$(\\'.log-line-debug\\').hide();\\n                        …"
      ]
     },
     "metadata": {},
     "output_type": "display_data"
    },
    {
     "data": {
      "text/plain": [
       "<hep_ipython_tools.ipython_handler_basf2.calculation.Basf2Calculation at 0x7f617260f710>"
      ]
     },
     "execution_count": 11,
     "metadata": {},
     "output_type": "execute_result"
    }
   ],
   "source": [
    "# Start the event loop (actually start processing things)\n",
    "print(f\"Storing results in {filename}...\")\n",
    "b2.process(main)"
   ]
  }
 ],
 "metadata": {
  "kernelspec": {
   "display_name": "Python 3 (Belle2)",
   "language": "python",
   "name": "python3"
  },
  "language_info": {
   "codemirror_mode": {
    "name": "ipython",
    "version": 3
   },
   "file_extension": ".py",
   "mimetype": "text/x-python",
   "name": "python",
   "nbconvert_exporter": "python",
   "pygments_lexer": "ipython3",
   "version": "3.6.10"
  }
 },
 "nbformat": 4,
 "nbformat_minor": 4
}
