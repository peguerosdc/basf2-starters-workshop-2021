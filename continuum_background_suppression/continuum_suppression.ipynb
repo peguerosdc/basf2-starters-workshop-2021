{
 "cells": [
  {
   "cell_type": "markdown",
   "metadata": {},
   "source": [
    "# Continuum Suppression\n",
    "Continuum is the name given to events with the proces $e^+ e^- \\rightarrow qq$ (i.e. the electron-positron collisions lead to some lighter hadrons without creating a $\\Upsilon (4S)$ resonance (which is what we used in the other examples.\n",
    "\n",
    "These events can be distinguished by looking at the shape of the momentum distribution, as lighter mesons (than BBbar) have more momentuum, so its distribution looks narrower in contrast with the Upsilon(4S) resonance where most of the energy goes to the mass and, with lower momentum available, its distribution must be uniform\n",
    "\n",
    "<img src=\"./continuum_with_labels.png\">"
   ]
  },
  {
   "cell_type": "markdown",
   "metadata": {},
   "source": [
    "To reconstruct the event shape, we will reconstruct B candidates and then reconstruct its Rest of Event (ROE). For this, we will use two samples:\n",
    "\n",
    "1. one with uubar continuum background\n",
    "2. one with $B \\rightarrow K_S^0 \\pi^0$ decays\n",
    "\n",
    "So, first, we need to import them"
   ]
  },
  {
   "cell_type": "code",
   "execution_count": 1,
   "metadata": {},
   "outputs": [],
   "source": [
    "import basf2 as b2\n",
    "import modularAnalysis as ma\n",
    "import stdPi0s"
   ]
  },
  {
   "cell_type": "code",
   "execution_count": 2,
   "metadata": {},
   "outputs": [],
   "source": [
    "# Create a path with the samples as input\n",
    "main = b2.create_path()\n",
    "\n",
    "ma.inputMdstList(\n",
    "    environmentType=\"default\",\n",
    "    filelist=[\n",
    "        b2.find_file(\"starterkit/2021/B02ks0pi0_sample.root\",\n",
    "                     data_type=\"examples\"),\n",
    "        b2.find_file(\"starterkit/2021/uubar_sample.root\",\n",
    "                     data_type=\"examples\"),\n",
    "    ],\n",
    "    path=main,\n",
    ")"
   ]
  },
  {
   "cell_type": "markdown",
   "metadata": {},
   "source": [
    "Now, we will reconstruct the Kshort candidates from the two charged pions"
   ]
  },
  {
   "cell_type": "code",
   "execution_count": 8,
   "metadata": {},
   "outputs": [
    {
     "name": "stdout",
     "output_type": "stream",
     "text": [
      "\u001b[33m[WARNING] stdPi0s is loading \"Jan2020\" pi0 recommendations. Please check Neutrals Performance Confluence page for most up-to-date pi0 recommendations.\n",
      "\u001b[m"
     ]
    }
   ],
   "source": [
    "# Reconstruct neutral pions\n",
    "stdPi0s.stdPi0s(path=main, listtype=\"eff60_Jan2020\")\n",
    "\n",
    "# Now, to reconstruct the Ks, first we reconstruct\n",
    "# charged pions with the given cut\n",
    "ma.fillParticleList(\n",
    "    decayString=\"pi+:good\", cut=\"chiProb > 0.001 and pionID > 0.5\", path=main\n",
    ")\n",
    "\n",
    "# Now, we can combine them to reconstruct the K_S0\n",
    "# We will consider this cut as we only want to combine pions whose\n",
    "# combined invariant mass is within 36MeV of the K0 mass\n",
    "ma.reconstructDecay(\n",
    "    decayString=\"K_S0 -> pi+:good pi-:good\", cut=\"0.480<=M<=0.516\", path=main\n",
    ")\n",
    "\n",
    "# Now, we can combine the pi0 and K_S0 that we reconstructed to\n",
    "# look for the B0 candidates\n",
    "ma.reconstructDecay(\n",
    "    decayString=\"B0  -> K_S0 pi0:eff60_Jan2020\",\n",
    "    cut=\"5.1 < Mbc < 5.3 and abs(deltaE) < 2\",\n",
    "    path=main,\n",
    ")"
   ]
  },
  {
   "cell_type": "markdown",
   "metadata": {},
   "source": [
    "Now, we will create the ROE of the B0 candidates and append common cuts for continuum suppression"
   ]
  },
  {
   "cell_type": "code",
   "execution_count": 9,
   "metadata": {},
   "outputs": [],
   "source": [
    "ma.buildRestOfEvent(target_list_name=\"B0\", path=main)\n",
    "cleanMask = (\n",
    "    \"cleanMask\",\n",
    "    \"nCDCHits > 0 and useCMSFrame(p)<=3.2\",\n",
    "    \"p >= 0.05 and useCMSFrame(p)<=3.2\",\n",
    ")\n",
    "ma.appendROEMasks(list_name=\"B0\", mask_tuples=[cleanMask], path=main)\n",
    "\n",
    "ma.buildContinuumSuppression(list_name=\"B0\", roe_mask=\"cleanMask\", path=main)"
   ]
  },
  {
   "cell_type": "markdown",
   "metadata": {},
   "source": [
    "Now, we will add some continuum variables to evaluate the performance of our method along with the truth-variable `isContinuumEvent` to do benchmarking"
   ]
  },
  {
   "cell_type": "code",
   "execution_count": 10,
   "metadata": {},
   "outputs": [],
   "source": [
    "simpleCSVariables = [\n",
    "    \"R2\",\n",
    "    \"thrustBm\",\n",
    "    \"thrustOm\",\n",
    "    \"cosTBTO\",\n",
    "    \"cosTBz\",\n",
    "]\n",
    "\n",
    "ma.variablesToNtuple(\n",
    "    decayString=\"B0\",\n",
    "    variables=simpleCSVariables + [\"Mbc\", \"isContinuumEvent\"],\n",
    "    filename=\"ContinuumSuppression.root\",\n",
    "    treename=\"tree\",\n",
    "    path=main,\n",
    ")"
   ]
  },
  {
   "cell_type": "markdown",
   "metadata": {},
   "source": [
    "Let's rock n' roll!"
   ]
  },
  {
   "cell_type": "code",
   "execution_count": 11,
   "metadata": {},
   "outputs": [
    {
     "name": "stdout",
     "output_type": "stream",
     "text": [
      "Welcome to JupyROOT 6.20/04\n"
     ]
    },
    {
     "data": {
      "application/vnd.jupyter.widget-view+json": {
       "model_id": "6aec90ddd54c44d3b6a5045e791f51d4",
       "version_major": 2,
       "version_minor": 0
      },
      "text/plain": [
       "VBox(children=(FloatProgress(value=0.0, layout=Layout(height='40px', width='100%'), max=1.0), Label(value=''))…"
      ]
     },
     "metadata": {},
     "output_type": "display_data"
    },
    {
     "data": {
      "application/vnd.jupyter.widget-view+json": {
       "model_id": "45fd9d3d51d24059b3b235e3a8ac8400",
       "version_major": 2,
       "version_minor": 0
      },
      "text/plain": [
       "VBox(children=(HBox(children=(HTML(value='<a onclick=\"$(\\'.log-line-debug\\').hide();\\n                        …"
      ]
     },
     "metadata": {},
     "output_type": "display_data"
    },
    {
     "data": {
      "text/plain": [
       "<hep_ipython_tools.ipython_handler_basf2.calculation.Basf2Calculation at 0x7f1d5a82a4a8>"
      ]
     },
     "execution_count": 11,
     "metadata": {},
     "output_type": "execute_result"
    }
   ],
   "source": [
    "b2.process(main)"
   ]
  },
  {
   "cell_type": "markdown",
   "metadata": {},
   "source": [
    "Now, we can plot the distribution of some useful variables to determine the shape of the event. We will use a popular choice called the ratio of the second and zeroth Fox-Wolfram moment `R2`"
   ]
  },
  {
   "cell_type": "code",
   "execution_count": 12,
   "metadata": {},
   "outputs": [],
   "source": [
    "%matplotlib inline\n",
    "\n",
    "import matplotlib.pyplot as plt\n",
    "from root_pandas import read_root"
   ]
  },
  {
   "cell_type": "code",
   "execution_count": 13,
   "metadata": {},
   "outputs": [
    {
     "data": {
      "text/plain": [
       "<matplotlib.legend.Legend at 0x7f1dce4f9668>"
      ]
     },
     "execution_count": 13,
     "metadata": {},
     "output_type": "execute_result"
    },
    {
     "data": {
      "image/png": "[encoded data removed]",
      "text/plain": [
       "<Figure size 432x288 with 1 Axes>"
      ]
     },
     "metadata": {
      "needs_background": "light"
     },
     "output_type": "display_data"
    }
   ],
   "source": [
    "df = read_root('ContinuumSuppression.root')\n",
    "\n",
    "fig, ax = plt.subplots()\n",
    "\n",
    "signal_df = df.query('(isContinuumEvent == 0.0)')\n",
    "continuum_df = df.query('(isContinuumEvent == 1.0)')\n",
    "\n",
    "n, bins, patches = ax.hist(signal_df['R2'], bins=30, range=(0, 1), label='Not Continuum', histtype='step')\n",
    "n, bins, patches = ax.hist(continuum_df['R2'], bins=30, range=(0, 1), label='Continuum', histtype='step')\n",
    "ax.set_xlabel('R2')\n",
    "ax.set_ylabel('Total number of candidates')\n",
    "ax.legend()"
   ]
  },
  {
   "cell_type": "code",
   "execution_count": null,
   "metadata": {},
   "outputs": [],
   "source": []
  }
 ],
 "metadata": {
  "kernelspec": {
   "display_name": "Python 3 (Belle2)",
   "language": "python",
   "name": "python3"
  },
  "language_info": {
   "codemirror_mode": {
    "name": "ipython",
    "version": 3
   },
   "file_extension": ".py",
   "mimetype": "text/x-python",
   "name": "python",
   "nbconvert_exporter": "python",
   "pygments_lexer": "ipython3",
   "version": "3.6.10"
  }
 },
 "nbformat": 4,
 "nbformat_minor": 4
}
