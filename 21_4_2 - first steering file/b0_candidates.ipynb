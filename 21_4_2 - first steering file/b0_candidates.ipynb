{
 "cells": [
  {
   "cell_type": "markdown",
   "metadata": {},
   "source": [
    "# Look for B0 candidates"
   ]
  },
  {
   "cell_type": "markdown",
   "metadata": {},
   "source": [
    "Import the required modules"
   ]
  },
  {
   "cell_type": "code",
   "execution_count": 1,
   "metadata": {},
   "outputs": [],
   "source": [
    "import sys\n",
    "import basf2 as b2\n",
    "# Convenience modules\n",
    "import modularAnalysis as ma\n",
    "# Convenience functions to filter standard particles\n",
    "import stdV0s\n",
    "# To print statistics\n",
    "from basf2 import statistics"
   ]
  },
  {
   "cell_type": "markdown",
   "metadata": {},
   "source": [
    "Select the input file number from the examples to analyze and if we want to run the version with cuts (without background) or without cuts (with background)"
   ]
  },
  {
   "cell_type": "code",
   "execution_count": 2,
   "metadata": {},
   "outputs": [],
   "source": [
    "filenumber = 1\n",
    "include_cuts = True"
   ]
  },
  {
   "cell_type": "markdown",
   "metadata": {},
   "source": [
    "## Create a Path and add a processig pipeline to it\n",
    "This will be define the container of the series of steps we are going to perform to do our analysis. All steps will be added as \"modules\" to this path"
   ]
  },
  {
   "cell_type": "code",
   "execution_count": 3,
   "metadata": {},
   "outputs": [],
   "source": [
    "main = b2.Path()"
   ]
  },
  {
   "cell_type": "markdown",
   "metadata": {},
   "source": [
    "Now, we can start adding modules to the processing pipeline (i.e. to the Path)"
   ]
  },
  {
   "cell_type": "markdown",
   "metadata": {},
   "source": [
    "### Load input data from mdst/udst file\n",
    "We are going to add a module to the \"main\" path to indicate the input file containing all the events"
   ]
  },
  {
   "cell_type": "code",
   "execution_count": 4,
   "metadata": {},
   "outputs": [],
   "source": [
    "ma.inputMdstList(\n",
    "    environmentType=\"default\",\n",
    "    filelist=[b2.find_file(f\"starterkit/2021/1111540100_eph3_BGx0_\"\n",
    "              f\"{filenumber}.root\", \"examples\")],\n",
    "    path=main,\n",
    ")"
   ]
  },
  {
   "cell_type": "markdown",
   "metadata": {},
   "source": [
    "Now, we are going to add the steps that actually filter the data. Each filter is looking for a specific particle and each candidate (i.e. the result of every filter) is going to be stored in the ParticleList. The goal is to create filters and recontruct everything we need so, in the end, we can find B0 candidates."
   ]
  },
  {
   "cell_type": "markdown",
   "metadata": {},
   "source": [
    "### Load electrons, positrons.\n",
    "First, we are going to look for electrons and positrons. That is, we are going \"fill the particle list\" with electron/positron candidates based on our filtering criteria (i.e. based on \"cuts\")"
   ]
  },
  {
   "cell_type": "code",
   "execution_count": 5,
   "metadata": {},
   "outputs": [],
   "source": [
    "ma.fillParticleList(\n",
    "    decayString=\"e+:uncorrected\",\n",
    "    cut=\"electronID>0.1 and dr<0.5 and abs(dz)<2 and thetaInECLAcceptance\",\n",
    "    path=main\n",
    ")"
   ]
  },
  {
   "cell_type": "markdown",
   "metadata": {},
   "source": [
    "### Load k_shorts\n",
    "Then, we going to look for K_short candidates. The appropiate cuts and filters are already programmed and store in a convenience function called \"stdKshorts\" (which is in the module of convenience filters for Standard Particles: stdV0s).\n",
    "\n",
    "In its inner workings, this function applies the recommended cuts (it looks for the K_S0 by looking for its product decays: K_S0 -> pi+ pi-. It looks for them using two different methods [V0 and ParticleCombiner] and then merges the results).\n",
    "\n",
    "K_S0 candidates in a variable called K_S0:merged in the ParticleList"
   ]
  },
  {
   "cell_type": "code",
   "execution_count": 6,
   "metadata": {},
   "outputs": [],
   "source": [
    "stdV0s.stdKshorts(path=main)"
   ]
  },
  {
   "cell_type": "markdown",
   "metadata": {},
   "source": [
    "### Reconstruct J/psi\n",
    "Now, we are looking for J/psi candidates. There is no convenience function, but it is fairly easy to look for the J/psi by its products e+ e-. The syntax for the decayString is:\n",
    "\n",
    "````\n",
    "parent:label -> children\n",
    "````\n",
    " \n",
    "where \"label\" is an optional label to add to the variable in the ParticleList If no label is provided, then the variable is just called \"parent\".\n",
    "\n",
    "The cut we are using is setting a mass minus nominal mass lower than 0.11"
   ]
  },
  {
   "cell_type": "code",
   "execution_count": 7,
   "metadata": {},
   "outputs": [],
   "source": [
    "ma.reconstructDecay(\n",
    "    decayString=\"J/psi -> e+:uncorrected e-:uncorrected\",\n",
    "    cut=\"dM < 0.11\",\n",
    "    path=main\n",
    ")"
   ]
  },
  {
   "cell_type": "markdown",
   "metadata": {},
   "source": [
    "### Reconstruct B0\n",
    "\n",
    "Up to this point, we have candidates for the J/psi and the K_S0 (stored in the variable K_S0:merged), we can use those them to create a new candidate for the B0 particle.\n",
    "\n",
    "We are adding a cut to remove candidates that:\n",
    "\n",
    "1. Have a beam-constrained energy greater than 5.2\n",
    "2. $ |\\Delta E| < 0.15$"
   ]
  },
  {
   "cell_type": "code",
   "execution_count": 8,
   "metadata": {},
   "outputs": [],
   "source": [
    "ma.reconstructDecay(\n",
    "    \"B0 -> J/psi K_S0:merged\",\n",
    "    cut=\"abs(deltaE) < 0.15 and Mbc > 5.2\" if include_cuts else \"\",\n",
    "    path=main,\n",
    ")"
   ]
  },
  {
   "cell_type": "markdown",
   "metadata": {},
   "source": [
    "### Checking if it is a signal candidate or background (only available for MonteCarlo data)\n",
    "\n",
    "Add MC matching for all particles of the decay chain and add the information whether the reconstructed B meson is a signal candidate to the ntuple. \n",
    "\n",
    "`matchMCTruth` stores the result in a variable called `isSignal`"
   ]
  },
  {
   "cell_type": "code",
   "execution_count": 9,
   "metadata": {},
   "outputs": [],
   "source": [
    "ma.matchMCTruth(\n",
    "    \"B0\",\n",
    "    path=main\n",
    ")"
   ]
  },
  {
   "cell_type": "markdown",
   "metadata": {},
   "source": [
    "### Save all the kinematic variables of this events\n",
    "\n",
    "To gain access to the kinematic variables, we need to add the module `buildEventKinematics` and set the target particle we want its kinematics to be reconstructed."
   ]
  },
  {
   "cell_type": "code",
   "execution_count": 10,
   "metadata": {},
   "outputs": [],
   "source": [
    "ma.buildEventKinematics(\n",
    "    [\"B0\"],\n",
    "    path=main\n",
    ")"
   ]
  },
  {
   "cell_type": "markdown",
   "metadata": {},
   "source": [
    "### Store our results to perform offline analysis. \n",
    "\n",
    "A good variable to start with is the beam-constrained mass Mbc, which will be stored in a tuple. This variable:\n",
    "\n",
    "1. is only of interest for B0 candidates, so it will be one entry per candidate which is defined by the decayString\n",
    "\n",
    "2. has to peak at the mass of the B0 (which will mean filters are indeed working and we have good candidates)\n",
    "\n",
    "3. will be stored in a file called \"Bd2JpsiKS.root\" in a tree called \"tree\"\n",
    "\n",
    "As the data comes from a MC simulation, we know if the candidates are correct or not with the `isSignal` variable, so we are going to store it as well.\n",
    "\n",
    "We will store other variables so, for the process:\n",
    "\n",
    "$$ B_0 \\rightarrow (J/\\Psi \\rightarrow e^+ e^-) (K_s^0 \\rightarrow \\pi^+ \\pi^-) $$\n",
    "\n",
    "We will end up storing:\n",
    "\n",
    "* For all particles : standard variables (reconstructed kinematics in the lab frame `vc.kinematics`, truth kinematics in the lab frame `vc.mc_kinematics`) and the kinematics in the CMS `useCMSFrame(kinematics)`.\n",
    "* For the $B_0$: Mbc and deltaE `vc.deltae_mbc`\n",
    "* For the resonances $J/\\Psi$ and $K_S^0$: the invariant mass `vc.inv_mass`\n",
    "* For the final state charged particles (electron, positron and pions): PID and track data"
   ]
  },
  {
   "cell_type": "code",
   "execution_count": 11,
   "metadata": {},
   "outputs": [
    {
     "name": "stdout",
     "output_type": "stream",
     "text": [
      "Welcome to JupyROOT 6.20/04\n"
     ]
    }
   ],
   "source": [
    "import variables.collections as vc\n",
    "\n",
    "\"\"\" define the variables that will be applied to all particles\"\"\"\n",
    "# store the kinematic variables\n",
    "variables = vc.kinematics + vc.mc_kinematics \n",
    "# store the isSignal variable\n",
    "variables += vc.mc_truth\n",
    "# add specific variables to B0\n",
    "b_vars = variables + vc.deltae_mbc\n",
    "\n",
    "import variables.utils as vu\n",
    "# add PID and track variables for all charged particles in the final\n",
    "# states\n",
    "b_vars += vu.create_aliases_for_selected(\n",
    "    list_of_variables = variables + vc.pid + vc.track + vc.track_hits,\n",
    "    decay_string=\"B0 -> [J/psi -> ^e+ ^e-] [K_S0 -> ^pi+ ^pi-]\",\n",
    "    prefix=[\"ep\", \"em\", \"pip\", \"pim\"],\n",
    ")\n",
    "\n",
    "# add the invariant mass of the intermediate resonances to the ntuple\n",
    "b_vars += vu.create_aliases_for_selected(\n",
    "    list_of_variables = variables + vc.inv_mass,\n",
    "    decay_string=\"B0 -> ^J/psi ^K_S0\",\n",
    ")\n",
    "\n",
    "# Add the kinematics in the CMS frame for all particles\n",
    "cmskinematics = vu.create_aliases(\n",
    "    list_of_variables=vc.kinematics,\n",
    "    wrapper=\"useCMSFrame({variable})\",\n",
    "    prefix=\"cms\"\n",
    ")\n",
    "b_vars += vu.create_aliases_for_selected(\n",
    "    list_of_variables = cmskinematics,\n",
    "    decay_string = \"^B0 -> [^J/psi -> ^e+ ^e-] [^K_S0 -> ^pi+ ^pi-]\"\n",
    ")\n",
    "\n",
    "# store results in a root file\n",
    "\n",
    "ma.variablesToNtuple(\n",
    "    decayString=\"B0\", variables=b_vars,\n",
    "    filename=f\"Bd2JpsiKS_{filenumber}_{'with_cut' if include_cuts else 'without_cut'}.root\",\n",
    "    treename=\"tree\",\n",
    "    path=main\n",
    ")"
   ]
  },
  {
   "cell_type": "code",
   "execution_count": 12,
   "metadata": {
    "scrolled": true
   },
   "outputs": [
    {
     "name": "stdout",
     "output_type": "stream",
     "text": [
      "[INFO] =====================================\n",
      "\u001b[m[INFO] The following aliases are registered:\n",
      "\u001b[m[INFO] Jpsi_E           --> daughter(0,E)\n",
      "\u001b[m[INFO] Jpsi_ErrM        --> daughter(0,ErrM)\n",
      "\u001b[m[INFO] Jpsi_InvM        --> daughter(0,InvM)\n",
      "\u001b[m[INFO] Jpsi_M           --> daughter(0,M)\n",
      "\u001b[m[INFO] Jpsi_SigM        --> daughter(0,SigM)\n",
      "\u001b[m[INFO] Jpsi_cms_E       --> daughter(0,cms_E)\n",
      "\u001b[m[INFO] Jpsi_cms_p       --> daughter(0,cms_p)\n",
      "\u001b[m[INFO] Jpsi_cms_pt      --> daughter(0,cms_pt)\n",
      "\u001b[m[INFO] Jpsi_cms_px      --> daughter(0,cms_px)\n",
      "\u001b[m[INFO] Jpsi_cms_py      --> daughter(0,cms_py)\n",
      "\u001b[m[INFO] Jpsi_cms_pz      --> daughter(0,cms_pz)\n",
      "\u001b[m[INFO] Jpsi_e_0_cms_E   --> daughter(0,daughter(0,cms_E))\n",
      "\u001b[m[INFO] Jpsi_e_0_cms_p   --> daughter(0,daughter(0,cms_p))\n",
      "\u001b[m[INFO] Jpsi_e_0_cms_pt  --> daughter(0,daughter(0,cms_pt))\n",
      "\u001b[m[INFO] Jpsi_e_0_cms_px  --> daughter(0,daughter(0,cms_px))\n",
      "\u001b[m[INFO] Jpsi_e_0_cms_py  --> daughter(0,daughter(0,cms_py))\n",
      "\u001b[m[INFO] Jpsi_e_0_cms_pz  --> daughter(0,daughter(0,cms_pz))\n",
      "\u001b[m[INFO] Jpsi_e_1_cms_E   --> daughter(0,daughter(1,cms_E))\n",
      "\u001b[m[INFO] Jpsi_e_1_cms_p   --> daughter(0,daughter(1,cms_p))\n",
      "\u001b[m[INFO] Jpsi_e_1_cms_pt  --> daughter(0,daughter(1,cms_pt))\n",
      "\u001b[m[INFO] Jpsi_e_1_cms_px  --> daughter(0,daughter(1,cms_px))\n",
      "\u001b[m[INFO] Jpsi_e_1_cms_py  --> daughter(0,daughter(1,cms_py))\n",
      "\u001b[m[INFO] Jpsi_e_1_cms_pz  --> daughter(0,daughter(1,cms_pz))\n",
      "\u001b[m[INFO] Jpsi_isSignal    --> daughter(0,isSignal)\n",
      "\u001b[m[INFO] Jpsi_mcE         --> daughter(0,mcE)\n",
      "\u001b[m[INFO] Jpsi_mcErrors    --> daughter(0,mcErrors)\n",
      "\u001b[m[INFO] Jpsi_mcP         --> daughter(0,mcP)\n",
      "\u001b[m[INFO] Jpsi_mcPDG       --> daughter(0,mcPDG)\n",
      "\u001b[m[INFO] Jpsi_mcPT        --> daughter(0,mcPT)\n",
      "\u001b[m[INFO] Jpsi_mcPX        --> daughter(0,mcPX)\n",
      "\u001b[m[INFO] Jpsi_mcPY        --> daughter(0,mcPY)\n",
      "\u001b[m[INFO] Jpsi_mcPZ        --> daughter(0,mcPZ)\n",
      "\u001b[m[INFO] Jpsi_mcPhi       --> daughter(0,mcPhi)\n",
      "\u001b[m[INFO] Jpsi_p           --> daughter(0,p)\n",
      "\u001b[m[INFO] Jpsi_pt          --> daughter(0,pt)\n",
      "\u001b[m[INFO] Jpsi_px          --> daughter(0,px)\n",
      "\u001b[m[INFO] Jpsi_py          --> daughter(0,py)\n",
      "\u001b[m[INFO] Jpsi_pz          --> daughter(0,pz)\n",
      "\u001b[m[INFO] K_S0_E           --> daughter(1,E)\n",
      "\u001b[m[INFO] K_S0_ErrM        --> daughter(1,ErrM)\n",
      "\u001b[m[INFO] K_S0_InvM        --> daughter(1,InvM)\n",
      "\u001b[m[INFO] K_S0_M           --> daughter(1,M)\n",
      "\u001b[m[INFO] K_S0_SigM        --> daughter(1,SigM)\n",
      "\u001b[m[INFO] K_S0_cms_E       --> daughter(1,cms_E)\n",
      "\u001b[m[INFO] K_S0_cms_p       --> daughter(1,cms_p)\n",
      "\u001b[m[INFO] K_S0_cms_pt      --> daughter(1,cms_pt)\n",
      "\u001b[m[INFO] K_S0_cms_px      --> daughter(1,cms_px)\n",
      "\u001b[m[INFO] K_S0_cms_py      --> daughter(1,cms_py)\n",
      "\u001b[m[INFO] K_S0_cms_pz      --> daughter(1,cms_pz)\n",
      "\u001b[m[INFO] K_S0_isSignal    --> daughter(1,isSignal)\n",
      "\u001b[m[INFO] K_S0_mcE         --> daughter(1,mcE)\n",
      "\u001b[m[INFO] K_S0_mcErrors    --> daughter(1,mcErrors)\n",
      "\u001b[m[INFO] K_S0_mcP         --> daughter(1,mcP)\n",
      "\u001b[m[INFO] K_S0_mcPDG       --> daughter(1,mcPDG)\n",
      "\u001b[m[INFO] K_S0_mcPT        --> daughter(1,mcPT)\n",
      "\u001b[m[INFO] K_S0_mcPX        --> daughter(1,mcPX)\n",
      "\u001b[m[INFO] K_S0_mcPY        --> daughter(1,mcPY)\n",
      "\u001b[m[INFO] K_S0_mcPZ        --> daughter(1,mcPZ)\n",
      "\u001b[m[INFO] K_S0_mcPhi       --> daughter(1,mcPhi)\n",
      "\u001b[m[INFO] K_S0_p           --> daughter(1,p)\n",
      "\u001b[m[INFO] K_S0_pi_0_cms_E  --> daughter(1,daughter(0,cms_E))\n",
      "\u001b[m[INFO] K_S0_pi_0_cms_p  --> daughter(1,daughter(0,cms_p))\n",
      "\u001b[m[INFO] K_S0_pi_0_cms_pt --> daughter(1,daughter(0,cms_pt))\n",
      "\u001b[m[INFO] K_S0_pi_0_cms_px --> daughter(1,daughter(0,cms_px))\n",
      "\u001b[m[INFO] K_S0_pi_0_cms_py --> daughter(1,daughter(0,cms_py))\n",
      "\u001b[m[INFO] K_S0_pi_0_cms_pz --> daughter(1,daughter(0,cms_pz))\n",
      "\u001b[m[INFO] K_S0_pi_1_cms_E  --> daughter(1,daughter(1,cms_E))\n",
      "\u001b[m[INFO] K_S0_pi_1_cms_p  --> daughter(1,daughter(1,cms_p))\n",
      "\u001b[m[INFO] K_S0_pi_1_cms_pt --> daughter(1,daughter(1,cms_pt))\n",
      "\u001b[m[INFO] K_S0_pi_1_cms_px --> daughter(1,daughter(1,cms_px))\n",
      "\u001b[m[INFO] K_S0_pi_1_cms_py --> daughter(1,daughter(1,cms_py))\n",
      "\u001b[m[INFO] K_S0_pi_1_cms_pz --> daughter(1,daughter(1,cms_pz))\n",
      "\u001b[m[INFO] K_S0_pt          --> daughter(1,pt)\n",
      "\u001b[m[INFO] K_S0_px          --> daughter(1,px)\n",
      "\u001b[m[INFO] K_S0_py          --> daughter(1,py)\n",
      "\u001b[m[INFO] K_S0_pz          --> daughter(1,pz)\n",
      "\u001b[m[INFO] cms_E            --> useCMSFrame(E)\n",
      "\u001b[m[INFO] cms_p            --> useCMSFrame(p)\n",
      "\u001b[m[INFO] cms_pt           --> useCMSFrame(pt)\n",
      "\u001b[m[INFO] cms_px           --> useCMSFrame(px)\n",
      "\u001b[m[INFO] cms_py           --> useCMSFrame(py)\n",
      "\u001b[m[INFO] cms_pz           --> useCMSFrame(pz)\n",
      "\u001b[m[INFO] em_E             --> daughter(0,daughter(1,E))\n",
      "\u001b[m[INFO] em_d0            --> daughter(0,daughter(1,d0))\n",
      "\u001b[m[INFO] em_deuteronID    --> daughter(0,daughter(1,deuteronID))\n",
      "\u001b[m[INFO] em_dr            --> daughter(0,daughter(1,dr))\n",
      "\u001b[m[INFO] em_dx            --> daughter(0,daughter(1,dx))\n",
      "\u001b[m[INFO] em_dy            --> daughter(0,daughter(1,dy))\n",
      "\u001b[m[INFO] em_dz            --> daughter(0,daughter(1,dz))\n",
      "\u001b[m[INFO] em_electronID    --> daughter(0,daughter(1,electronID))\n",
      "\u001b[m[INFO] em_isSignal      --> daughter(0,daughter(1,isSignal))\n",
      "\u001b[m[INFO] em_kaonID        --> daughter(0,daughter(1,kaonID))\n",
      "\u001b[m[INFO] em_mcE           --> daughter(0,daughter(1,mcE))\n",
      "\u001b[m[INFO] em_mcErrors      --> daughter(0,daughter(1,mcErrors))\n",
      "\u001b[m[INFO] em_mcP           --> daughter(0,daughter(1,mcP))\n",
      "\u001b[m[INFO] em_mcPDG         --> daughter(0,daughter(1,mcPDG))\n",
      "\u001b[m[INFO] em_mcPT          --> daughter(0,daughter(1,mcPT))\n",
      "\u001b[m[INFO] em_mcPX          --> daughter(0,daughter(1,mcPX))\n",
      "\u001b[m[INFO] em_mcPY          --> daughter(0,daughter(1,mcPY))\n",
      "\u001b[m[INFO] em_mcPZ          --> daughter(0,daughter(1,mcPZ))\n",
      "\u001b[m[INFO] em_mcPhi         --> daughter(0,daughter(1,mcPhi))\n",
      "\u001b[m[INFO] em_muonID        --> daughter(0,daughter(1,muonID))\n",
      "\u001b[m[INFO] em_nCDCHits      --> daughter(0,daughter(1,nCDCHits))\n",
      "\u001b[m[INFO] em_nPXDHits      --> daughter(0,daughter(1,nPXDHits))\n",
      "\u001b[m[INFO] em_nSVDHits      --> daughter(0,daughter(1,nSVDHits))\n",
      "\u001b[m[INFO] em_nVXDHits      --> daughter(0,daughter(1,nVXDHits))\n",
      "\u001b[m[INFO] em_ndf           --> daughter(0,daughter(1,ndf))\n",
      "\u001b[m[INFO] em_p             --> daughter(0,daughter(1,p))\n",
      "\u001b[m[INFO] em_pValue        --> daughter(0,daughter(1,pValue))\n",
      "\u001b[m[INFO] em_pionID        --> daughter(0,daughter(1,pionID))\n",
      "\u001b[m[INFO] em_protonID      --> daughter(0,daughter(1,protonID))\n",
      "\u001b[m[INFO] em_pt            --> daughter(0,daughter(1,pt))\n",
      "\u001b[m[INFO] em_px            --> daughter(0,daughter(1,px))\n",
      "\u001b[m[INFO] em_py            --> daughter(0,daughter(1,py))\n",
      "\u001b[m[INFO] em_pz            --> daughter(0,daughter(1,pz))\n",
      "\u001b[m[INFO] em_z0            --> daughter(0,daughter(1,z0))\n",
      "\u001b[m[INFO] ep_E             --> daughter(0,daughter(0,E))\n",
      "\u001b[m[INFO] ep_d0            --> daughter(0,daughter(0,d0))\n",
      "\u001b[m[INFO] ep_deuteronID    --> daughter(0,daughter(0,deuteronID))\n",
      "\u001b[m[INFO] ep_dr            --> daughter(0,daughter(0,dr))\n",
      "\u001b[m[INFO] ep_dx            --> daughter(0,daughter(0,dx))\n",
      "\u001b[m[INFO] ep_dy            --> daughter(0,daughter(0,dy))\n",
      "\u001b[m[INFO] ep_dz            --> daughter(0,daughter(0,dz))\n",
      "\u001b[m[INFO] ep_electronID    --> daughter(0,daughter(0,electronID))\n",
      "\u001b[m[INFO] ep_isSignal      --> daughter(0,daughter(0,isSignal))\n",
      "\u001b[m[INFO] ep_kaonID        --> daughter(0,daughter(0,kaonID))\n",
      "\u001b[m[INFO] ep_mcE           --> daughter(0,daughter(0,mcE))\n",
      "\u001b[m[INFO] ep_mcErrors      --> daughter(0,daughter(0,mcErrors))\n",
      "\u001b[m[INFO] ep_mcP           --> daughter(0,daughter(0,mcP))\n",
      "\u001b[m[INFO] ep_mcPDG         --> daughter(0,daughter(0,mcPDG))\n",
      "\u001b[m[INFO] ep_mcPT          --> daughter(0,daughter(0,mcPT))\n",
      "\u001b[m[INFO] ep_mcPX          --> daughter(0,daughter(0,mcPX))\n",
      "\u001b[m[INFO] ep_mcPY          --> daughter(0,daughter(0,mcPY))\n",
      "\u001b[m[INFO] ep_mcPZ          --> daughter(0,daughter(0,mcPZ))\n",
      "\u001b[m[INFO] ep_mcPhi         --> daughter(0,daughter(0,mcPhi))\n",
      "\u001b[m[INFO] ep_muonID        --> daughter(0,daughter(0,muonID))\n",
      "\u001b[m[INFO] ep_nCDCHits      --> daughter(0,daughter(0,nCDCHits))\n",
      "\u001b[m[INFO] ep_nPXDHits      --> daughter(0,daughter(0,nPXDHits))\n",
      "\u001b[m[INFO] ep_nSVDHits      --> daughter(0,daughter(0,nSVDHits))\n",
      "\u001b[m[INFO] ep_nVXDHits      --> daughter(0,daughter(0,nVXDHits))\n",
      "\u001b[m[INFO] ep_ndf           --> daughter(0,daughter(0,ndf))\n",
      "\u001b[m[INFO] ep_p             --> daughter(0,daughter(0,p))\n",
      "\u001b[m[INFO] ep_pValue        --> daughter(0,daughter(0,pValue))\n",
      "\u001b[m[INFO] ep_pionID        --> daughter(0,daughter(0,pionID))\n",
      "\u001b[m[INFO] ep_protonID      --> daughter(0,daughter(0,protonID))\n",
      "\u001b[m[INFO] ep_pt            --> daughter(0,daughter(0,pt))\n"
     ]
    },
    {
     "name": "stdout",
     "output_type": "stream",
     "text": [
      "\u001b[m[INFO] ep_px            --> daughter(0,daughter(0,px))\n",
      "\u001b[m[INFO] ep_py            --> daughter(0,daughter(0,py))\n",
      "\u001b[m[INFO] ep_pz            --> daughter(0,daughter(0,pz))\n",
      "\u001b[m[INFO] ep_z0            --> daughter(0,daughter(0,z0))\n",
      "\u001b[m[INFO] pim_E            --> daughter(1,daughter(1,E))\n",
      "\u001b[m[INFO] pim_d0           --> daughter(1,daughter(1,d0))\n",
      "\u001b[m[INFO] pim_deuteronID   --> daughter(1,daughter(1,deuteronID))\n",
      "\u001b[m[INFO] pim_dr           --> daughter(1,daughter(1,dr))\n",
      "\u001b[m[INFO] pim_dx           --> daughter(1,daughter(1,dx))\n",
      "\u001b[m[INFO] pim_dy           --> daughter(1,daughter(1,dy))\n",
      "\u001b[m[INFO] pim_dz           --> daughter(1,daughter(1,dz))\n",
      "\u001b[m[INFO] pim_electronID   --> daughter(1,daughter(1,electronID))\n",
      "\u001b[m[INFO] pim_isSignal     --> daughter(1,daughter(1,isSignal))\n",
      "\u001b[m[INFO] pim_kaonID       --> daughter(1,daughter(1,kaonID))\n",
      "\u001b[m[INFO] pim_mcE          --> daughter(1,daughter(1,mcE))\n",
      "\u001b[m[INFO] pim_mcErrors     --> daughter(1,daughter(1,mcErrors))\n",
      "\u001b[m[INFO] pim_mcP          --> daughter(1,daughter(1,mcP))\n",
      "\u001b[m[INFO] pim_mcPDG        --> daughter(1,daughter(1,mcPDG))\n",
      "\u001b[m[INFO] pim_mcPT         --> daughter(1,daughter(1,mcPT))\n",
      "\u001b[m[INFO] pim_mcPX         --> daughter(1,daughter(1,mcPX))\n",
      "\u001b[m[INFO] pim_mcPY         --> daughter(1,daughter(1,mcPY))\n",
      "\u001b[m[INFO] pim_mcPZ         --> daughter(1,daughter(1,mcPZ))\n",
      "\u001b[m[INFO] pim_mcPhi        --> daughter(1,daughter(1,mcPhi))\n",
      "\u001b[m[INFO] pim_muonID       --> daughter(1,daughter(1,muonID))\n",
      "\u001b[m[INFO] pim_nCDCHits     --> daughter(1,daughter(1,nCDCHits))\n",
      "\u001b[m[INFO] pim_nPXDHits     --> daughter(1,daughter(1,nPXDHits))\n",
      "\u001b[m[INFO] pim_nSVDHits     --> daughter(1,daughter(1,nSVDHits))\n",
      "\u001b[m[INFO] pim_nVXDHits     --> daughter(1,daughter(1,nVXDHits))\n",
      "\u001b[m[INFO] pim_ndf          --> daughter(1,daughter(1,ndf))\n",
      "\u001b[m[INFO] pim_p            --> daughter(1,daughter(1,p))\n",
      "\u001b[m[INFO] pim_pValue       --> daughter(1,daughter(1,pValue))\n",
      "\u001b[m[INFO] pim_pionID       --> daughter(1,daughter(1,pionID))\n",
      "\u001b[m[INFO] pim_protonID     --> daughter(1,daughter(1,protonID))\n",
      "\u001b[m[INFO] pim_pt           --> daughter(1,daughter(1,pt))\n",
      "\u001b[m[INFO] pim_px           --> daughter(1,daughter(1,px))\n",
      "\u001b[m[INFO] pim_py           --> daughter(1,daughter(1,py))\n",
      "\u001b[m[INFO] pim_pz           --> daughter(1,daughter(1,pz))\n",
      "\u001b[m[INFO] pim_z0           --> daughter(1,daughter(1,z0))\n",
      "\u001b[m[INFO] pip_E            --> daughter(1,daughter(0,E))\n",
      "\u001b[m[INFO] pip_d0           --> daughter(1,daughter(0,d0))\n",
      "\u001b[m[INFO] pip_deuteronID   --> daughter(1,daughter(0,deuteronID))\n",
      "\u001b[m[INFO] pip_dr           --> daughter(1,daughter(0,dr))\n",
      "\u001b[m[INFO] pip_dx           --> daughter(1,daughter(0,dx))\n",
      "\u001b[m[INFO] pip_dy           --> daughter(1,daughter(0,dy))\n",
      "\u001b[m[INFO] pip_dz           --> daughter(1,daughter(0,dz))\n",
      "\u001b[m[INFO] pip_electronID   --> daughter(1,daughter(0,electronID))\n",
      "\u001b[m[INFO] pip_isSignal     --> daughter(1,daughter(0,isSignal))\n",
      "\u001b[m[INFO] pip_kaonID       --> daughter(1,daughter(0,kaonID))\n",
      "\u001b[m[INFO] pip_mcE          --> daughter(1,daughter(0,mcE))\n",
      "\u001b[m[INFO] pip_mcErrors     --> daughter(1,daughter(0,mcErrors))\n",
      "\u001b[m[INFO] pip_mcP          --> daughter(1,daughter(0,mcP))\n",
      "\u001b[m[INFO] pip_mcPDG        --> daughter(1,daughter(0,mcPDG))\n",
      "\u001b[m[INFO] pip_mcPT         --> daughter(1,daughter(0,mcPT))\n",
      "\u001b[m[INFO] pip_mcPX         --> daughter(1,daughter(0,mcPX))\n",
      "\u001b[m[INFO] pip_mcPY         --> daughter(1,daughter(0,mcPY))\n",
      "\u001b[m[INFO] pip_mcPZ         --> daughter(1,daughter(0,mcPZ))\n",
      "\u001b[m[INFO] pip_mcPhi        --> daughter(1,daughter(0,mcPhi))\n",
      "\u001b[m[INFO] pip_muonID       --> daughter(1,daughter(0,muonID))\n",
      "\u001b[m[INFO] pip_nCDCHits     --> daughter(1,daughter(0,nCDCHits))\n",
      "\u001b[m[INFO] pip_nPXDHits     --> daughter(1,daughter(0,nPXDHits))\n",
      "\u001b[m[INFO] pip_nSVDHits     --> daughter(1,daughter(0,nSVDHits))\n",
      "\u001b[m[INFO] pip_nVXDHits     --> daughter(1,daughter(0,nVXDHits))\n",
      "\u001b[m[INFO] pip_ndf          --> daughter(1,daughter(0,ndf))\n",
      "\u001b[m[INFO] pip_p            --> daughter(1,daughter(0,p))\n",
      "\u001b[m[INFO] pip_pValue       --> daughter(1,daughter(0,pValue))\n",
      "\u001b[m[INFO] pip_pionID       --> daughter(1,daughter(0,pionID))\n",
      "\u001b[m[INFO] pip_protonID     --> daughter(1,daughter(0,protonID))\n",
      "\u001b[m[INFO] pip_pt           --> daughter(1,daughter(0,pt))\n",
      "\u001b[m[INFO] pip_px           --> daughter(1,daughter(0,px))\n",
      "\u001b[m[INFO] pip_py           --> daughter(1,daughter(0,py))\n",
      "\u001b[m[INFO] pip_pz           --> daughter(1,daughter(0,pz))\n",
      "\u001b[m[INFO] pip_z0           --> daughter(1,daughter(0,z0))\n",
      "\u001b[m[INFO] =====================================\n",
      "\u001b[m"
     ]
    }
   ],
   "source": [
    "from variables import variables as vm\n",
    "vm.printAliases()"
   ]
  },
  {
   "cell_type": "markdown",
   "metadata": {},
   "source": [
    "## Perform processing"
   ]
  },
  {
   "cell_type": "code",
   "execution_count": 13,
   "metadata": {},
   "outputs": [
    {
     "data": {
      "application/vnd.jupyter.widget-view+json": {
       "model_id": "6bfa7393115841a5b2f9289ed7fda682",
       "version_major": 2,
       "version_minor": 0
      },
      "text/plain": [
       "VBox(children=(FloatProgress(value=0.0, layout=Layout(height='40px', width='100%'), max=1.0), Label(value=''))…"
      ]
     },
     "metadata": {},
     "output_type": "display_data"
    },
    {
     "data": {
      "application/vnd.jupyter.widget-view+json": {
       "model_id": "9b7b92ebe76f41d1b0aa10c74d3d1ecb",
       "version_major": 2,
       "version_minor": 0
      },
      "text/plain": [
       "VBox(children=(HBox(children=(HTML(value='<a onclick=\"$(\\'.log-line-debug\\').hide();\\n                        …"
      ]
     },
     "metadata": {},
     "output_type": "display_data"
    },
    {
     "data": {
      "text/plain": [
       "<hep_ipython_tools.ipython_handler_basf2.calculation.Basf2Calculation at 0x7f7225cb8748>"
      ]
     },
     "execution_count": 13,
     "metadata": {},
     "output_type": "execute_result"
    }
   ],
   "source": [
    "# Start the event loop (actually start processing things)\n",
    "b2.process(main)"
   ]
  },
  {
   "cell_type": "code",
   "execution_count": 14,
   "metadata": {},
   "outputs": [
    {
     "name": "stdout",
     "output_type": "stream",
     "text": [
      "\u001b[31m[ERROR] ProcessStatistics data object is not available, you either disabled statistics with --no-stats or didn't run process(path) yet.\n",
      "\u001b[m\n"
     ]
    }
   ],
   "source": [
    "# print results stored in global statistics\n",
    "print(statistics)"
   ]
  }
 ],
 "metadata": {
  "kernelspec": {
   "display_name": "Python 3 (Belle2)",
   "language": "python",
   "name": "python3"
  },
  "language_info": {
   "codemirror_mode": {
    "name": "ipython",
    "version": 3
   },
   "file_extension": ".py",
   "mimetype": "text/x-python",
   "name": "python",
   "nbconvert_exporter": "python",
   "pygments_lexer": "ipython3",
   "version": "3.6.10"
  }
 },
 "nbformat": 4,
 "nbformat_minor": 4
}
