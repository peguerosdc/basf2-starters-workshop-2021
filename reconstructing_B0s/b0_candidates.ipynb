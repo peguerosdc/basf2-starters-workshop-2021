{
 "cells": [
  {
   "cell_type": "markdown",
   "metadata": {},
   "source": [
    "# Look for B0 candidates"
   ]
  },
  {
   "cell_type": "markdown",
   "metadata": {},
   "source": [
    "Import the required modules"
   ]
  },
  {
   "cell_type": "code",
   "execution_count": 1,
   "metadata": {},
   "outputs": [
    {
     "name": "stdout",
     "output_type": "stream",
     "text": [
      "Welcome to JupyROOT 6.20/04\n"
     ]
    }
   ],
   "source": [
    "import sys\n",
    "import basf2 as b2\n",
    "# Convenience modules\n",
    "import modularAnalysis as ma\n",
    "# Convenience functions to filter standard particles\n",
    "import stdV0s\n",
    "# To print statistics\n",
    "from basf2 import statistics\n",
    "# To handle variables\n",
    "import variables.collections as vc\n",
    "import variables.utils as vu\n",
    "from variables import variables as vm \n",
    "# To tag the flavour of the reconstructed B0\n",
    "import flavorTagger as ft\n",
    "# To do vertex fitting\n",
    "import vertex"
   ]
  },
  {
   "cell_type": "markdown",
   "metadata": {},
   "source": [
    "Select the input file number from the examples to analyze and if we want to run the version with cuts (without background) or without cuts (with background)"
   ]
  },
  {
   "cell_type": "code",
   "execution_count": 2,
   "metadata": {},
   "outputs": [],
   "source": [
    "filenumber = 1"
   ]
  },
  {
   "cell_type": "markdown",
   "metadata": {},
   "source": [
    "## Create a Path and add a processig pipeline to it\n",
    "This will be define the container of the series of steps we are going to perform to do our analysis. All steps will be added as \"modules\" to this path"
   ]
  },
  {
   "cell_type": "code",
   "execution_count": 3,
   "metadata": {},
   "outputs": [],
   "source": [
    "main = b2.Path()"
   ]
  },
  {
   "cell_type": "markdown",
   "metadata": {},
   "source": [
    "Now, we can start adding modules to the processing pipeline (i.e. to the Path)"
   ]
  },
  {
   "cell_type": "markdown",
   "metadata": {},
   "source": [
    "### Load input data from mdst/udst file\n",
    "We are going to add a module to the \"main\" path to indicate the input file containing all the events"
   ]
  },
  {
   "cell_type": "code",
   "execution_count": 4,
   "metadata": {},
   "outputs": [],
   "source": [
    "# load input data from mdst/udst file\n",
    "ma.inputMdstList(\n",
    "    environmentType=\"default\",\n",
    "    filelist=[b2.find_file(f\"starterkit/2021/1111540100_eph3_BGx0_{filenumber}.root\", \"examples\")],\n",
    "    path=main,\n",
    ")"
   ]
  },
  {
   "cell_type": "markdown",
   "metadata": {},
   "source": [
    "Now, we are going to add the steps that actually filter the data. Each filter is looking for a specific particle and each candidate (i.e. the result of every filter) is going to be stored in the ParticleList. The goal is to create filters and recontruct everything we need so, in the end, we can find B0 candidates."
   ]
  },
  {
   "cell_type": "markdown",
   "metadata": {},
   "source": [
    "### Load electrons, positrons.\n",
    "First, we are going to look for electrons and positrons. That is, we are going \"fill the particle list\" with electron/positron candidates based on our filtering criteria (i.e. based on \"cuts\")"
   ]
  },
  {
   "cell_type": "code",
   "execution_count": 5,
   "metadata": {},
   "outputs": [],
   "source": [
    "# fill final state particle lists\n",
    "ma.fillParticleList(\n",
    "    \"e+:uncorrected\",\n",
    "    \"electronID > 0.1 and dr < 0.5 and abs(dz) < 2 and thetaInCDCAcceptance\",\n",
    "    path=main,\n",
    ")"
   ]
  },
  {
   "cell_type": "markdown",
   "metadata": {},
   "source": [
    "### Load k_shorts\n",
    "Then, we going to look for K_short candidates. The appropiate cuts and filters are already programmed and store in a convenience function called \"stdKshorts\" (which is in the module of convenience filters for Standard Particles: stdV0s).\n",
    "\n",
    "In its inner workings, this function applies the recommended cuts (it looks for the K_S0 by looking for its product decays: K_S0 -> pi+ pi-. It looks for them using two different methods [V0 and ParticleCombiner] and then merges the results).\n",
    "\n",
    "K_S0 candidates in a variable called K_S0:merged in the ParticleList"
   ]
  },
  {
   "cell_type": "code",
   "execution_count": 6,
   "metadata": {},
   "outputs": [],
   "source": [
    "stdV0s.stdKshorts(path=main)"
   ]
  },
  {
   "cell_type": "markdown",
   "metadata": {},
   "source": [
    "### Load Bremsstrahlung photons\n",
    "Define the cuts that photons should pass in order to match the physics of Bremsstrahlung photons"
   ]
  },
  {
   "cell_type": "code",
   "execution_count": 7,
   "metadata": {},
   "outputs": [
    {
     "data": {
      "text/plain": [
       "True"
      ]
     },
     "execution_count": 7,
     "metadata": {},
     "output_type": "execute_result"
    }
   ],
   "source": [
    "vm.addAlias(\n",
    "    \"goodFWDGamma\", \"passesCut(clusterReg == 1 and clusterE > 0.075)\"\n",
    ")\n",
    "vm.addAlias(\n",
    "    \"goodBRLGamma\", \"passesCut(clusterReg == 2 and clusterE > 0.05)\"\n",
    ")\n",
    "vm.addAlias(\n",
    "    \"goodBWDGamma\", \"passesCut(clusterReg == 3 and clusterE > 0.1)\"\n",
    ")\n",
    "vm.addAlias(\n",
    "    \"goodGamma\", \"passesCut(goodFWDGamma or goodBRLGamma or goodBWDGamma)\"\n",
    ")"
   ]
  },
  {
   "cell_type": "markdown",
   "metadata": {},
   "source": [
    "Recover the Bremsstrahlung photons of the uncorrected positrons using the cuts we've just defined"
   ]
  },
  {
   "cell_type": "code",
   "execution_count": 8,
   "metadata": {},
   "outputs": [
    {
     "data": {
      "text/plain": [
       "True"
      ]
     },
     "execution_count": 8,
     "metadata": {},
     "output_type": "execute_result"
    }
   ],
   "source": [
    "ma.fillParticleList(\"gamma:brems\", \"goodGamma\", path=main)\n",
    "ma.correctBrems(\"e+:corrected\", \"e+:uncorrected\", \"gamma:brems\", path=main)\n",
    "vm.addAlias(\"isBremsCorrected\", \"extraInfo(bremsCorrected)\")"
   ]
  },
  {
   "cell_type": "markdown",
   "metadata": {},
   "source": [
    "### Reconstruct J/psi\n",
    "Now, we are looking for J/psi candidates. There is no convenience function, but it is fairly easy to look for the J/psi by its products e+ e-. The syntax for the decayString is:\n",
    "\n",
    "````\n",
    "parent:label -> children\n",
    "````\n",
    " \n",
    "where \"label\" is an optional label to add to the variable in the ParticleList If no label is provided, then the variable is just called \"parent\".\n",
    "\n",
    "The cut we are using is setting a mass minus nominal mass lower than 0.11"
   ]
  },
  {
   "cell_type": "code",
   "execution_count": 9,
   "metadata": {},
   "outputs": [],
   "source": [
    "ma.reconstructDecay(\n",
    "    \"J/psi:ee -> e+:corrected e-:corrected ?addbrems\",\n",
    "    cut=\"dM < 0.11\",\n",
    "    path=main,\n",
    ")"
   ]
  },
  {
   "cell_type": "markdown",
   "metadata": {},
   "source": [
    "### Reconstruct B0\n",
    "\n",
    "Up to this point, we have candidates for the J/psi and the K_S0 (stored in the variable K_S0:merged), we can use those them to create a new candidate for the B0 particle.\n",
    "\n",
    "We are adding a cut to remove candidates that:\n",
    "\n",
    "1. Have a beam-constrained energy greater than 5.2\n",
    "2. $ |\\Delta E| < 0.15$"
   ]
  },
  {
   "cell_type": "code",
   "execution_count": 10,
   "metadata": {},
   "outputs": [],
   "source": [
    "ma.reconstructDecay(\n",
    "    \"B0 -> J/psi:ee K_S0:merged\",\n",
    "    cut=\"Mbc > 5.2 and abs(deltaE) < 0.15\",\n",
    "    path=main,\n",
    ")"
   ]
  },
  {
   "cell_type": "markdown",
   "metadata": {},
   "source": [
    "### Checking if it is a signal candidate or background (only available for MonteCarlo data)\n",
    "\n",
    "Add MC matching for all particles of the decay chain and add the information whether the reconstructed B meson is a signal candidate to the ntuple. \n",
    "\n",
    "`matchMCTruth` stores the result in a variable called `isSignal`"
   ]
  },
  {
   "cell_type": "code",
   "execution_count": 11,
   "metadata": {},
   "outputs": [],
   "source": [
    "# match reconstructed with MC particles\n",
    "ma.matchMCTruth(\"B0\", path=main)"
   ]
  },
  {
   "cell_type": "markdown",
   "metadata": {},
   "source": [
    "### Build the ROE\n",
    "Build the Rest of Event around the reconstructed B0 and add its variables to the ROOT file we want to create so we can use them later"
   ]
  },
  {
   "cell_type": "markdown",
   "metadata": {},
   "source": [
    "To make sure this ROE is useful, we need to \"clean it up\" by cutting out background particles that don't really matter for our analysis. In this case, we'll perform the following cuts:"
   ]
  },
  {
   "cell_type": "code",
   "execution_count": 12,
   "metadata": {},
   "outputs": [],
   "source": [
    "ma.buildRestOfEvent(\"B0\", fillWithMostLikely=True, path=main)\n",
    "# create a mask tuple (name, cut1, cut2, ...)\n",
    "track_based_cuts = \"thetaInCDCAcceptance and pt > 0.075 and dr < 5 and abs(dz) < 10\"\n",
    "ecl_based_cuts = \"thetaInCDCAcceptance and E > 0.05\"\n",
    "roe_mask = (\"my_mask\", track_based_cuts, ecl_based_cuts)\n",
    "# append the mask to the path\n",
    "ma.appendROEMasks(\"B0\", [roe_mask], path=main)"
   ]
  },
  {
   "cell_type": "markdown",
   "metadata": {},
   "source": [
    "#### Flavour Tagging of the B0 candidate\n",
    "The `flavorTagger` uses machine learning techniques to infer the flavour of a particle (in this case, the $B_0$ based on its ROE, so now that we have build the ROE it is a good time to add the flavor tagger."
   ]
  },
  {
   "cell_type": "code",
   "execution_count": 13,
   "metadata": {},
   "outputs": [
    {
     "name": "stdout",
     "output_type": "stream",
     "text": [
      "[INFO] *** FLAVOR TAGGING ***\n",
      "\u001b[m[INFO]  \n",
      "\u001b[m[INFO]     Working directory is: ./FlavorTagging/TrainedMethods\n",
      "\u001b[m[INFO]  \n",
      "\u001b[m[INFO] EVENT LEVEL\n",
      "\u001b[m[INFO] flavorTagger: Applying MVAExpert FlavorTagger_Belle2_B2nunubarBGx1EventLevelElectronFBDT.\n",
      "\u001b[m[INFO] flavorTagger: Applying MVAExpert FlavorTagger_Belle2_B2nunubarBGx1EventLevelIntermediateElectronFBDT.\n",
      "\u001b[m[INFO] flavorTagger: Applying MVAExpert FlavorTagger_Belle2_B2nunubarBGx1EventLevelMuonFBDT.\n",
      "\u001b[m[INFO] flavorTagger: Applying MVAExpert FlavorTagger_Belle2_B2nunubarBGx1EventLevelIntermediateMuonFBDT.\n",
      "\u001b[m[INFO] flavorTagger: Applying MVAExpert FlavorTagger_Belle2_B2nunubarBGx1EventLevelKinLeptonFBDT.\n",
      "\u001b[m[INFO] flavorTagger: Applying MVAExpert FlavorTagger_Belle2_B2nunubarBGx1EventLevelIntermediateKinLeptonFBDT.\n",
      "\u001b[m[INFO] flavorTagger: Applying MVAExpert FlavorTagger_Belle2_B2nunubarBGx1EventLevelKaonFBDT.\n",
      "\u001b[m[INFO] flavorTagger: Applying MVAExpert FlavorTagger_Belle2_B2nunubarBGx1EventLevelSlowPionFBDT.\n",
      "\u001b[m[INFO] flavorTagger: Applying MVAExpert FlavorTagger_Belle2_B2nunubarBGx1EventLevelFastHadronFBDT.\n",
      "\u001b[m[INFO] flavorTagger: Applying MVAExpert FlavorTagger_Belle2_B2nunubarBGx1EventLevelLambdaFBDT.\n",
      "\u001b[m[INFO] flavorTagger: Applying MVAExpert FlavorTagger_Belle2_B2nunubarBGx1EventLevelFSCFBDT.\n",
      "\u001b[m[INFO] flavorTagger: Applying MVAExpert FlavorTagger_Belle2_B2nunubarBGx1EventLevelMaximumPstarFBDT.\n",
      "\u001b[m[INFO] flavorTagger: Applying MVAExpert FlavorTagger_Belle2_B2nunubarBGx1EventLevelKaonPionFBDT.\n",
      "\u001b[m[INFO] COMBINER LEVEL\n",
      "\u001b[m[INFO] Flavor Tagger: Required Combiner for Categories:\n",
      "\u001b[m[INFO] Electron\n",
      "\u001b[m[INFO] IntermediateElectron\n",
      "\u001b[m[INFO] Muon\n",
      "\u001b[m[INFO] IntermediateMuon\n",
      "\u001b[m[INFO] KinLepton\n",
      "\u001b[m[INFO] IntermediateKinLepton\n",
      "\u001b[m[INFO] Kaon\n",
      "\u001b[m[INFO] SlowPion\n",
      "\u001b[m[INFO] FastHadron\n",
      "\u001b[m[INFO] Lambda\n",
      "\u001b[m[INFO] FSC\n",
      "\u001b[m[INFO] MaximumPstar\n",
      "\u001b[m[INFO] KaonPion\n",
      "\u001b[m[INFO] Flavor Tagger: which corresponds to a weight file with categories combination code CatCode00010203040506070809101112\n",
      "\u001b[m[INFO] flavorTagger: Apply FANNMethod and FBDTMethod  on combiner level\n",
      "\u001b[m"
     ]
    }
   ],
   "source": [
    "# Specify the model to use\n",
    "b2.conditions.prepend_globaltag(\"analysis_tools_release-04-02\")\n",
    "# Add the flavor tagger\n",
    "ft.flavorTagger(\n",
    "    particleLists=[\"B0\"],\n",
    "    path=main\n",
    ")"
   ]
  },
  {
   "cell_type": "markdown",
   "metadata": {},
   "source": [
    "### Perform vertex fitting\n",
    "We want to reconstruct the $B$ vertex, so we are going to approximate it with the $J/\\Psi$ vertex because:\n",
    "\n",
    "* We can't reconstruct the B vertex directly because its decay products ($J/\\Psi$ and $K_S^0$) are not charged particles, so they don't leave a track and thus we can't identify it's vertex\n",
    "\n",
    "* We could use the $K_S^0$ vertex, but it lives longer than the $J/\\Psi$, so it can decay several centimeters away from where it was produced (the $B$ vertex) thus it is a bad approximation"
   ]
  },
  {
   "cell_type": "code",
   "execution_count": 14,
   "metadata": {},
   "outputs": [],
   "source": [
    "vertex.kFit(\"J/psi:ee\", conf_level=0.0, path=main)"
   ]
  },
  {
   "cell_type": "markdown",
   "metadata": {},
   "source": [
    "### Perform vertex fitting on the other B meson\n",
    "Since B mesons are produced in pairs, for every signal candidate we reconstruct, there will also be another (the \"tag\") which is not explicitly reconstructed. We weill get its position via a geometric fit over the ROE via `TagV`:"
   ]
  },
  {
   "cell_type": "code",
   "execution_count": 15,
   "metadata": {},
   "outputs": [],
   "source": [
    "vertex.TagV(\"B0\", constraintType=\"tube\", path=main)"
   ]
  },
  {
   "cell_type": "markdown",
   "metadata": {},
   "source": [
    "### Select best candidates\n",
    "Usually we need to select the best candidates of all the results to perform our analysis, but in this case let's just add a random variable to rank them"
   ]
  },
  {
   "cell_type": "code",
   "execution_count": 16,
   "metadata": {},
   "outputs": [
    {
     "name": "stdout",
     "output_type": "stream",
     "text": [
      "[INFO] The random number seed is set to \"Belle II StarterKit\"\n",
      "\u001b[m"
     ]
    }
   ],
   "source": [
    "# perform best candidate selection\n",
    "b2.set_random_seed(\"Belle II StarterKit\")\n",
    "ma.rankByHighest(\"B0\", variable=\"random\", numBest=1, path=main)"
   ]
  },
  {
   "cell_type": "markdown",
   "metadata": {},
   "source": [
    "## Define variables to store"
   ]
  },
  {
   "cell_type": "code",
   "execution_count": 17,
   "metadata": {},
   "outputs": [],
   "source": [
    "# Create list of variables to save into the output file\n",
    "b_vars = []\n",
    "\n",
    "standard_vars = vc.kinematics + vc.mc_kinematics + vc.mc_truth\n",
    "b_vars += vc.deltae_mbc\n",
    "b_vars += standard_vars\n",
    "\n",
    "# ROE variables\n",
    "roe_kinematics = [\"roeE()\", \"roeM()\", \"roeP()\", \"roeMbc()\", \"roeDeltae()\"]\n",
    "roe_multiplicities = [\n",
    "    \"nROE_Charged()\",\n",
    "    \"nROE_Photons()\",\n",
    "    \"nROE_NeutralHadrons()\",\n",
    "]\n",
    "b_vars += roe_kinematics + roe_multiplicities\n",
    "# Let's also add a version of the ROE variables that includes the mask:\n",
    "for roe_variable in roe_kinematics + roe_multiplicities:\n",
    "    # e.g. instead of 'roeE()' (no mask) we want 'roeE(my_mask)'\n",
    "    roe_variable_with_mask = roe_variable.replace(\"()\", \"(my_mask)\")\n",
    "    b_vars.append(roe_variable_with_mask)\n",
    "    \n",
    "# add variables corresponding to the flavor tagger\n",
    "b_vars += ft.flavor_tagging\n",
    "\n",
    "# add variables corresponding to the tag vertex\n",
    "b_vars += vc.tag_vertex + vc.mc_tag_vertex"
   ]
  },
  {
   "cell_type": "markdown",
   "metadata": {},
   "source": [
    "### Add other useful variables in the reconstruction of the B0 to store in the ROOT file\n",
    "\n",
    "A good variable to start with is the beam-constrained mass Mbc, which will be stored in a tuple. This variable:\n",
    "\n",
    "1. is only of interest for B0 candidates, so it will be one entry per candidate which is defined by the decayString\n",
    "\n",
    "2. has to peak at the mass of the B0 (which will mean filters are indeed working and we have good candidates)\n",
    "\n",
    "3. will be stored in a file called \"Bd2JpsiKS.root\" in a tree called \"tree\"\n",
    "\n",
    "As the data comes from a MC simulation, we know if the candidates are correct or not with the `isSignal` variable, so we are going to store it as well.\n",
    "\n",
    "We will store other variables so, for the process:\n",
    "\n",
    "$$ B_0 \\rightarrow (J/\\Psi \\rightarrow e^+ e^-) (K_s^0 \\rightarrow \\pi^+ \\pi^-) $$\n",
    "\n",
    "We will end up storing:\n",
    "\n",
    "* For all particles : standard variables (reconstructed kinematics in the lab frame `vc.kinematics`, truth kinematics in the lab frame `vc.mc_kinematics`) and the kinematics in the CMS `useCMSFrame(kinematics)`.\n",
    "* For the $B_0$: Mbc and deltaE `vc.deltae_mbc`\n",
    "* For the resonances $J/\\Psi$ and $K_S^0$: the invariant mass `vc.inv_mass`\n",
    "* For the final state charged particles (electron, positron and pions): PID and track data"
   ]
  },
  {
   "cell_type": "code",
   "execution_count": 18,
   "metadata": {},
   "outputs": [],
   "source": [
    "# add PID and track variables for all charged particles in the final\n",
    "# states\n",
    "fs_vars = vc.pid + vc.track + vc.track_hits + standard_vars\n",
    "b_vars += vu.create_aliases_for_selected(\n",
    "    fs_vars + [\"isBremsCorrected\"],\n",
    "    \"B0 -> [J/psi -> ^e+ ^e-] K_S0\",\n",
    "    prefix=[\"ep\", \"em\"],\n",
    ")\n",
    "b_vars += vu.create_aliases_for_selected(\n",
    "    fs_vars, \"B0 -> J/psi [K_S0 -> ^pi+ ^pi-]\", prefix=[\"pip\", \"pim\"]\n",
    ")\n",
    "\n",
    "# add the invariant mass of the intermediate resonances to the ntuple\n",
    "jpsi_ks_vars = vc.inv_mass + standard_vars\n",
    "# add the vertex reconstruction variables\n",
    "jpsi_ks_vars += vc.vertex + vc.mc_vertex\n",
    "b_vars += vu.create_aliases_for_selected(jpsi_ks_vars, \"B0 -> ^J/psi ^K_S0\")"
   ]
  },
  {
   "cell_type": "markdown",
   "metadata": {},
   "source": [
    "And we are creating a variable to store the invariant mass of the $J/\\Psi$ meson using the uncorrected momenta of the leptons. We'll later compare it against the corrected mass"
   ]
  },
  {
   "cell_type": "code",
   "execution_count": 19,
   "metadata": {},
   "outputs": [],
   "source": [
    "# will give us the invariant mass of the first daughter of the\n",
    "# first daughter, and the first daughter of the second daughter. \n",
    "# Add the J/Psi mass calculated with uncorrected electrons:\n",
    "vm.addAlias(\n",
    "    \"Jpsi_M_uncorrected\", \"daughter(0, daughterCombination(M,0:0,1:0))\"\n",
    ")\n",
    "b_vars += [\"Jpsi_M_uncorrected\"]"
   ]
  },
  {
   "cell_type": "markdown",
   "metadata": {},
   "source": [
    "Add kinematics variables in the Center of Mass frame for all particles"
   ]
  },
  {
   "cell_type": "code",
   "execution_count": 20,
   "metadata": {},
   "outputs": [],
   "source": [
    "# Add the kinematics in the CMS frame for all particles\n",
    "cmskinematics = vu.create_aliases(\n",
    "    vc.kinematics, \"useCMSFrame({variable})\", \"CMS\"\n",
    ")\n",
    "b_vars += vu.create_aliases_for_selected(\n",
    "    cmskinematics, \"^B0 -> [^J/psi -> ^e+ ^e-] [^K_S0 -> ^pi+ ^pi-]\"\n",
    ")"
   ]
  },
  {
   "cell_type": "markdown",
   "metadata": {},
   "source": [
    "Add Brems variables"
   ]
  },
  {
   "cell_type": "code",
   "execution_count": 21,
   "metadata": {},
   "outputs": [],
   "source": [
    "vm.addAlias(\n",
    "    \"withBremsCorrection\",\n",
    "    \"passesCut(passesCut(ep_isBremsCorrected == 1) or passesCut(em_isBremsCorrected == 1))\",\n",
    ")\n",
    "b_vars += [\"withBremsCorrection\"]"
   ]
  },
  {
   "cell_type": "markdown",
   "metadata": {},
   "source": [
    "### Store the results in a ROOT file\n",
    "Finally, we add the module `variablesToNtuple` to store all the given variables we constructed `b_vars` in a ROOT file, but first let's inspect all the variables we have added"
   ]
  },
  {
   "cell_type": "code",
   "execution_count": 22,
   "metadata": {},
   "outputs": [
    {
     "name": "stdout",
     "output_type": "stream",
     "text": [
      "[INFO] =====================================\n",
      "\u001b[m[INFO] The following aliases are registered:\n",
      "\u001b[m[INFO] CMS_E                                --> useCMSFrame(E)\n",
      "\u001b[m[INFO] CMS_p                                --> useCMSFrame(p)\n",
      "\u001b[m[INFO] CMS_pt                               --> useCMSFrame(pt)\n",
      "\u001b[m[INFO] CMS_px                               --> useCMSFrame(px)\n",
      "\u001b[m[INFO] CMS_py                               --> useCMSFrame(py)\n",
      "\u001b[m[INFO] CMS_pz                               --> useCMSFrame(pz)\n",
      "\u001b[m[INFO] FANN_qrCombined                      --> qrOutput(FANN)\n",
      "\u001b[m[INFO] FBDT_qrCombined                      --> qrOutput(FBDT)\n",
      "\u001b[m[INFO] Jpsi_CMS_E                           --> daughter(0,CMS_E)\n",
      "\u001b[m[INFO] Jpsi_CMS_p                           --> daughter(0,CMS_p)\n",
      "\u001b[m[INFO] Jpsi_CMS_pt                          --> daughter(0,CMS_pt)\n",
      "\u001b[m[INFO] Jpsi_CMS_px                          --> daughter(0,CMS_px)\n",
      "\u001b[m[INFO] Jpsi_CMS_py                          --> daughter(0,CMS_py)\n",
      "\u001b[m[INFO] Jpsi_CMS_pz                          --> daughter(0,CMS_pz)\n",
      "\u001b[m[INFO] Jpsi_E                               --> daughter(0,E)\n",
      "\u001b[m[INFO] Jpsi_ErrM                            --> daughter(0,ErrM)\n",
      "\u001b[m[INFO] Jpsi_InvM                            --> daughter(0,InvM)\n",
      "\u001b[m[INFO] Jpsi_M                               --> daughter(0,M)\n",
      "\u001b[m[INFO] Jpsi_M_uncorrected                   --> daughter(0, daughterCombination(M,0:0,1:0))\n",
      "\u001b[m[INFO] Jpsi_SigM                            --> daughter(0,SigM)\n",
      "\u001b[m[INFO] Jpsi_chiProb                         --> daughter(0,chiProb)\n",
      "\u001b[m[INFO] Jpsi_dcosTheta                       --> daughter(0,dcosTheta)\n",
      "\u001b[m[INFO] Jpsi_distance                        --> daughter(0,distance)\n",
      "\u001b[m[INFO] Jpsi_dphi                            --> daughter(0,dphi)\n",
      "\u001b[m[INFO] Jpsi_dr                              --> daughter(0,dr)\n",
      "\u001b[m[INFO] Jpsi_dx                              --> daughter(0,dx)\n",
      "\u001b[m[INFO] Jpsi_dy                              --> daughter(0,dy)\n",
      "\u001b[m[INFO] Jpsi_dz                              --> daughter(0,dz)\n",
      "\u001b[m[INFO] Jpsi_e_0_CMS_E                       --> daughter(0,daughter(0,CMS_E))\n",
      "\u001b[m[INFO] Jpsi_e_0_CMS_p                       --> daughter(0,daughter(0,CMS_p))\n",
      "\u001b[m[INFO] Jpsi_e_0_CMS_pt                      --> daughter(0,daughter(0,CMS_pt))\n",
      "\u001b[m[INFO] Jpsi_e_0_CMS_px                      --> daughter(0,daughter(0,CMS_px))\n",
      "\u001b[m[INFO] Jpsi_e_0_CMS_py                      --> daughter(0,daughter(0,CMS_py))\n",
      "\u001b[m[INFO] Jpsi_e_0_CMS_pz                      --> daughter(0,daughter(0,CMS_pz))\n",
      "\u001b[m[INFO] Jpsi_e_1_CMS_E                       --> daughter(0,daughter(1,CMS_E))\n",
      "\u001b[m[INFO] Jpsi_e_1_CMS_p                       --> daughter(0,daughter(1,CMS_p))\n",
      "\u001b[m[INFO] Jpsi_e_1_CMS_pt                      --> daughter(0,daughter(1,CMS_pt))\n",
      "\u001b[m[INFO] Jpsi_e_1_CMS_px                      --> daughter(0,daughter(1,CMS_px))\n",
      "\u001b[m[INFO] Jpsi_e_1_CMS_py                      --> daughter(0,daughter(1,CMS_py))\n",
      "\u001b[m[INFO] Jpsi_e_1_CMS_pz                      --> daughter(0,daughter(1,CMS_pz))\n",
      "\u001b[m[INFO] Jpsi_isSignal                        --> daughter(0,isSignal)\n",
      "\u001b[m[INFO] Jpsi_mcDecayVertexFromIPDistance     --> daughter(0,mcDecayVertexFromIPDistance)\n",
      "\u001b[m[INFO] Jpsi_mcDecayVertexRho                --> daughter(0,mcDecayVertexRho)\n",
      "\u001b[m[INFO] Jpsi_mcDecayVertexX                  --> daughter(0,mcDecayVertexX)\n",
      "\u001b[m[INFO] Jpsi_mcDecayVertexY                  --> daughter(0,mcDecayVertexY)\n",
      "\u001b[m[INFO] Jpsi_mcDecayVertexZ                  --> daughter(0,mcDecayVertexZ)\n",
      "\u001b[m[INFO] Jpsi_mcE                             --> daughter(0,mcE)\n",
      "\u001b[m[INFO] Jpsi_mcErrors                        --> daughter(0,mcErrors)\n",
      "\u001b[m[INFO] Jpsi_mcP                             --> daughter(0,mcP)\n",
      "\u001b[m[INFO] Jpsi_mcPDG                           --> daughter(0,mcPDG)\n",
      "\u001b[m[INFO] Jpsi_mcPT                            --> daughter(0,mcPT)\n",
      "\u001b[m[INFO] Jpsi_mcPX                            --> daughter(0,mcPX)\n",
      "\u001b[m[INFO] Jpsi_mcPY                            --> daughter(0,mcPY)\n",
      "\u001b[m[INFO] Jpsi_mcPZ                            --> daughter(0,mcPZ)\n",
      "\u001b[m[INFO] Jpsi_mcPhi                           --> daughter(0,mcPhi)\n",
      "\u001b[m[INFO] Jpsi_mcProductionVertexX             --> daughter(0,mcProductionVertexX)\n",
      "\u001b[m[INFO] Jpsi_mcProductionVertexY             --> daughter(0,mcProductionVertexY)\n",
      "\u001b[m[INFO] Jpsi_mcProductionVertexZ             --> daughter(0,mcProductionVertexZ)\n",
      "\u001b[m[INFO] Jpsi_p                               --> daughter(0,p)\n",
      "\u001b[m[INFO] Jpsi_prodVertexX                     --> daughter(0,prodVertexX)\n",
      "\u001b[m[INFO] Jpsi_prodVertexXErr                  --> daughter(0,prodVertexXErr)\n",
      "\u001b[m[INFO] Jpsi_prodVertexY                     --> daughter(0,prodVertexY)\n",
      "\u001b[m[INFO] Jpsi_prodVertexYErr                  --> daughter(0,prodVertexYErr)\n",
      "\u001b[m[INFO] Jpsi_prodVertexZ                     --> daughter(0,prodVertexZ)\n",
      "\u001b[m[INFO] Jpsi_prodVertexZErr                  --> daughter(0,prodVertexZErr)\n",
      "\u001b[m[INFO] Jpsi_pt                              --> daughter(0,pt)\n",
      "\u001b[m[INFO] Jpsi_px                              --> daughter(0,px)\n",
      "\u001b[m[INFO] Jpsi_py                              --> daughter(0,py)\n",
      "\u001b[m[INFO] Jpsi_pz                              --> daughter(0,pz)\n",
      "\u001b[m[INFO] Jpsi_significanceOfDistance          --> daughter(0,significanceOfDistance)\n",
      "\u001b[m[INFO] Jpsi_x                               --> daughter(0,x)\n",
      "\u001b[m[INFO] Jpsi_x_uncertainty                   --> daughter(0,x_uncertainty)\n",
      "\u001b[m[INFO] Jpsi_y                               --> daughter(0,y)\n",
      "\u001b[m[INFO] Jpsi_y_uncertainty                   --> daughter(0,y_uncertainty)\n",
      "\u001b[m[INFO] Jpsi_z                               --> daughter(0,z)\n",
      "\u001b[m[INFO] Jpsi_z_uncertainty                   --> daughter(0,z_uncertainty)\n",
      "\u001b[m[INFO] K_S0_CMS_E                           --> daughter(1,CMS_E)\n",
      "\u001b[m[INFO] K_S0_CMS_p                           --> daughter(1,CMS_p)\n",
      "\u001b[m[INFO] K_S0_CMS_pt                          --> daughter(1,CMS_pt)\n",
      "\u001b[m[INFO] K_S0_CMS_px                          --> daughter(1,CMS_px)\n",
      "\u001b[m[INFO] K_S0_CMS_py                          --> daughter(1,CMS_py)\n",
      "\u001b[m[INFO] K_S0_CMS_pz                          --> daughter(1,CMS_pz)\n",
      "\u001b[m[INFO] K_S0_E                               --> daughter(1,E)\n",
      "\u001b[m[INFO] K_S0_ErrM                            --> daughter(1,ErrM)\n",
      "\u001b[m[INFO] K_S0_InvM                            --> daughter(1,InvM)\n",
      "\u001b[m[INFO] K_S0_M                               --> daughter(1,M)\n",
      "\u001b[m[INFO] K_S0_SigM                            --> daughter(1,SigM)\n",
      "\u001b[m[INFO] K_S0_chiProb                         --> daughter(1,chiProb)\n",
      "\u001b[m[INFO] K_S0_dcosTheta                       --> daughter(1,dcosTheta)\n",
      "\u001b[m[INFO] K_S0_distance                        --> daughter(1,distance)\n",
      "\u001b[m[INFO] K_S0_dphi                            --> daughter(1,dphi)\n",
      "\u001b[m[INFO] K_S0_dr                              --> daughter(1,dr)\n",
      "\u001b[m[INFO] K_S0_dx                              --> daughter(1,dx)\n",
      "\u001b[m[INFO] K_S0_dy                              --> daughter(1,dy)\n",
      "\u001b[m[INFO] K_S0_dz                              --> daughter(1,dz)\n",
      "\u001b[m[INFO] K_S0_isSignal                        --> daughter(1,isSignal)\n",
      "\u001b[m[INFO] K_S0_mcDecayVertexFromIPDistance     --> daughter(1,mcDecayVertexFromIPDistance)\n",
      "\u001b[m[INFO] K_S0_mcDecayVertexRho                --> daughter(1,mcDecayVertexRho)\n",
      "\u001b[m[INFO] K_S0_mcDecayVertexX                  --> daughter(1,mcDecayVertexX)\n",
      "\u001b[m[INFO] K_S0_mcDecayVertexY                  --> daughter(1,mcDecayVertexY)\n",
      "\u001b[m[INFO] K_S0_mcDecayVertexZ                  --> daughter(1,mcDecayVertexZ)\n",
      "\u001b[m[INFO] K_S0_mcE                             --> daughter(1,mcE)\n",
      "\u001b[m[INFO] K_S0_mcErrors                        --> daughter(1,mcErrors)\n",
      "\u001b[m[INFO] K_S0_mcP                             --> daughter(1,mcP)\n",
      "\u001b[m[INFO] K_S0_mcPDG                           --> daughter(1,mcPDG)\n",
      "\u001b[m[INFO] K_S0_mcPT                            --> daughter(1,mcPT)\n",
      "\u001b[m[INFO] K_S0_mcPX                            --> daughter(1,mcPX)\n",
      "\u001b[m[INFO] K_S0_mcPY                            --> daughter(1,mcPY)\n",
      "\u001b[m[INFO] K_S0_mcPZ                            --> daughter(1,mcPZ)\n",
      "\u001b[m[INFO] K_S0_mcPhi                           --> daughter(1,mcPhi)\n",
      "\u001b[m[INFO] K_S0_mcProductionVertexX             --> daughter(1,mcProductionVertexX)\n",
      "\u001b[m[INFO] K_S0_mcProductionVertexY             --> daughter(1,mcProductionVertexY)\n"
     ]
    },
    {
     "name": "stdout",
     "output_type": "stream",
     "text": [
      "\u001b[m[INFO] K_S0_mcProductionVertexZ             --> daughter(1,mcProductionVertexZ)\n",
      "\u001b[m[INFO] K_S0_p                               --> daughter(1,p)\n",
      "\u001b[m[INFO] K_S0_pi_0_CMS_E                      --> daughter(1,daughter(0,CMS_E))\n",
      "\u001b[m[INFO] K_S0_pi_0_CMS_p                      --> daughter(1,daughter(0,CMS_p))\n",
      "\u001b[m[INFO] K_S0_pi_0_CMS_pt                     --> daughter(1,daughter(0,CMS_pt))\n",
      "\u001b[m[INFO] K_S0_pi_0_CMS_px                     --> daughter(1,daughter(0,CMS_px))\n",
      "\u001b[m[INFO] K_S0_pi_0_CMS_py                     --> daughter(1,daughter(0,CMS_py))\n",
      "\u001b[m[INFO] K_S0_pi_0_CMS_pz                     --> daughter(1,daughter(0,CMS_pz))\n",
      "\u001b[m[INFO] K_S0_pi_1_CMS_E                      --> daughter(1,daughter(1,CMS_E))\n",
      "\u001b[m[INFO] K_S0_pi_1_CMS_p                      --> daughter(1,daughter(1,CMS_p))\n",
      "\u001b[m[INFO] K_S0_pi_1_CMS_pt                     --> daughter(1,daughter(1,CMS_pt))\n",
      "\u001b[m[INFO] K_S0_pi_1_CMS_px                     --> daughter(1,daughter(1,CMS_px))\n",
      "\u001b[m[INFO] K_S0_pi_1_CMS_py                     --> daughter(1,daughter(1,CMS_py))\n",
      "\u001b[m[INFO] K_S0_pi_1_CMS_pz                     --> daughter(1,daughter(1,CMS_pz))\n",
      "\u001b[m[INFO] K_S0_prodVertexX                     --> daughter(1,prodVertexX)\n",
      "\u001b[m[INFO] K_S0_prodVertexXErr                  --> daughter(1,prodVertexXErr)\n",
      "\u001b[m[INFO] K_S0_prodVertexY                     --> daughter(1,prodVertexY)\n",
      "\u001b[m[INFO] K_S0_prodVertexYErr                  --> daughter(1,prodVertexYErr)\n",
      "\u001b[m[INFO] K_S0_prodVertexZ                     --> daughter(1,prodVertexZ)\n",
      "\u001b[m[INFO] K_S0_prodVertexZErr                  --> daughter(1,prodVertexZErr)\n",
      "\u001b[m[INFO] K_S0_pt                              --> daughter(1,pt)\n",
      "\u001b[m[INFO] K_S0_px                              --> daughter(1,px)\n",
      "\u001b[m[INFO] K_S0_py                              --> daughter(1,py)\n",
      "\u001b[m[INFO] K_S0_pz                              --> daughter(1,pz)\n",
      "\u001b[m[INFO] K_S0_significanceOfDistance          --> daughter(1,significanceOfDistance)\n",
      "\u001b[m[INFO] K_S0_x                               --> daughter(1,x)\n",
      "\u001b[m[INFO] K_S0_x_uncertainty                   --> daughter(1,x_uncertainty)\n",
      "\u001b[m[INFO] K_S0_y                               --> daughter(1,y)\n",
      "\u001b[m[INFO] K_S0_y_uncertainty                   --> daughter(1,y_uncertainty)\n",
      "\u001b[m[INFO] K_S0_z                               --> daughter(1,z)\n",
      "\u001b[m[INFO] K_S0_z_uncertainty                   --> daughter(1,z_uncertainty)\n",
      "\u001b[m[INFO] Kid_ARICH                            --> ifNANgiveX(pidPairProbabilityExpert(321, 211, ARICH), 0.5)\n",
      "\u001b[m[INFO] Kid_TOP                              --> ifNANgiveX(pidPairProbabilityExpert(321, 211, TOP), 0.5)\n",
      "\u001b[m[INFO] Kid_dEdx                             --> ifNANgiveX(pidPairProbabilityExpert(321, 211, CDC), 0.5)\n",
      "\u001b[m[INFO] eid_ARICH                            --> ifNANgiveX(pidPairProbabilityExpert(11, 211, ARICH), 0.5)\n",
      "\u001b[m[INFO] eid_ECL                              --> ifNANgiveX(pidPairProbabilityExpert(11, 211, ECL), 0.5)\n",
      "\u001b[m[INFO] eid_TOP                              --> ifNANgiveX(pidPairProbabilityExpert(11, 211, TOP), 0.5)\n",
      "\u001b[m[INFO] eid_dEdx                             --> ifNANgiveX(pidPairProbabilityExpert(11, 211, CDC), 0.5)\n",
      "\u001b[m[INFO] em_E                                 --> daughter(0,daughter(1,E))\n",
      "\u001b[m[INFO] em_d0                                --> daughter(0,daughter(1,d0))\n",
      "\u001b[m[INFO] em_deuteronID                        --> daughter(0,daughter(1,deuteronID))\n",
      "\u001b[m[INFO] em_dr                                --> daughter(0,daughter(1,dr))\n",
      "\u001b[m[INFO] em_dx                                --> daughter(0,daughter(1,dx))\n",
      "\u001b[m[INFO] em_dy                                --> daughter(0,daughter(1,dy))\n",
      "\u001b[m[INFO] em_dz                                --> daughter(0,daughter(1,dz))\n",
      "\u001b[m[INFO] em_electronID                        --> daughter(0,daughter(1,electronID))\n",
      "\u001b[m[INFO] em_isBremsCorrected                  --> daughter(0,daughter(1,isBremsCorrected))\n",
      "\u001b[m[INFO] em_isSignal                          --> daughter(0,daughter(1,isSignal))\n",
      "\u001b[m[INFO] em_kaonID                            --> daughter(0,daughter(1,kaonID))\n",
      "\u001b[m[INFO] em_mcE                               --> daughter(0,daughter(1,mcE))\n",
      "\u001b[m[INFO] em_mcErrors                          --> daughter(0,daughter(1,mcErrors))\n",
      "\u001b[m[INFO] em_mcP                               --> daughter(0,daughter(1,mcP))\n",
      "\u001b[m[INFO] em_mcPDG                             --> daughter(0,daughter(1,mcPDG))\n",
      "\u001b[m[INFO] em_mcPT                              --> daughter(0,daughter(1,mcPT))\n",
      "\u001b[m[INFO] em_mcPX                              --> daughter(0,daughter(1,mcPX))\n",
      "\u001b[m[INFO] em_mcPY                              --> daughter(0,daughter(1,mcPY))\n",
      "\u001b[m[INFO] em_mcPZ                              --> daughter(0,daughter(1,mcPZ))\n",
      "\u001b[m[INFO] em_mcPhi                             --> daughter(0,daughter(1,mcPhi))\n",
      "\u001b[m[INFO] em_muonID                            --> daughter(0,daughter(1,muonID))\n",
      "\u001b[m[INFO] em_nCDCHits                          --> daughter(0,daughter(1,nCDCHits))\n",
      "\u001b[m[INFO] em_nPXDHits                          --> daughter(0,daughter(1,nPXDHits))\n",
      "\u001b[m[INFO] em_nSVDHits                          --> daughter(0,daughter(1,nSVDHits))\n",
      "\u001b[m[INFO] em_nVXDHits                          --> daughter(0,daughter(1,nVXDHits))\n",
      "\u001b[m[INFO] em_ndf                               --> daughter(0,daughter(1,ndf))\n",
      "\u001b[m[INFO] em_p                                 --> daughter(0,daughter(1,p))\n",
      "\u001b[m[INFO] em_pValue                            --> daughter(0,daughter(1,pValue))\n",
      "\u001b[m[INFO] em_pionID                            --> daughter(0,daughter(1,pionID))\n",
      "\u001b[m[INFO] em_protonID                          --> daughter(0,daughter(1,protonID))\n",
      "\u001b[m[INFO] em_pt                                --> daughter(0,daughter(1,pt))\n",
      "\u001b[m[INFO] em_px                                --> daughter(0,daughter(1,px))\n",
      "\u001b[m[INFO] em_py                                --> daughter(0,daughter(1,py))\n",
      "\u001b[m[INFO] em_pz                                --> daughter(0,daughter(1,pz))\n",
      "\u001b[m[INFO] em_z0                                --> daughter(0,daughter(1,z0))\n",
      "\u001b[m[INFO] ep_E                                 --> daughter(0,daughter(0,E))\n",
      "\u001b[m[INFO] ep_d0                                --> daughter(0,daughter(0,d0))\n",
      "\u001b[m[INFO] ep_deuteronID                        --> daughter(0,daughter(0,deuteronID))\n",
      "\u001b[m[INFO] ep_dr                                --> daughter(0,daughter(0,dr))\n",
      "\u001b[m[INFO] ep_dx                                --> daughter(0,daughter(0,dx))\n",
      "\u001b[m[INFO] ep_dy                                --> daughter(0,daughter(0,dy))\n",
      "\u001b[m[INFO] ep_dz                                --> daughter(0,daughter(0,dz))\n",
      "\u001b[m[INFO] ep_electronID                        --> daughter(0,daughter(0,electronID))\n",
      "\u001b[m[INFO] ep_isBremsCorrected                  --> daughter(0,daughter(0,isBremsCorrected))\n",
      "\u001b[m[INFO] ep_isSignal                          --> daughter(0,daughter(0,isSignal))\n",
      "\u001b[m[INFO] ep_kaonID                            --> daughter(0,daughter(0,kaonID))\n",
      "\u001b[m[INFO] ep_mcE                               --> daughter(0,daughter(0,mcE))\n",
      "\u001b[m[INFO] ep_mcErrors                          --> daughter(0,daughter(0,mcErrors))\n",
      "\u001b[m[INFO] ep_mcP                               --> daughter(0,daughter(0,mcP))\n",
      "\u001b[m[INFO] ep_mcPDG                             --> daughter(0,daughter(0,mcPDG))\n",
      "\u001b[m[INFO] ep_mcPT                              --> daughter(0,daughter(0,mcPT))\n",
      "\u001b[m[INFO] ep_mcPX                              --> daughter(0,daughter(0,mcPX))\n",
      "\u001b[m[INFO] ep_mcPY                              --> daughter(0,daughter(0,mcPY))\n",
      "\u001b[m[INFO] ep_mcPZ                              --> daughter(0,daughter(0,mcPZ))\n",
      "\u001b[m[INFO] ep_mcPhi                             --> daughter(0,daughter(0,mcPhi))\n",
      "\u001b[m[INFO] ep_muonID                            --> daughter(0,daughter(0,muonID))\n",
      "\u001b[m[INFO] ep_nCDCHits                          --> daughter(0,daughter(0,nCDCHits))\n",
      "\u001b[m[INFO] ep_nPXDHits                          --> daughter(0,daughter(0,nPXDHits))\n",
      "\u001b[m[INFO] ep_nSVDHits                          --> daughter(0,daughter(0,nSVDHits))\n",
      "\u001b[m[INFO] ep_nVXDHits                          --> daughter(0,daughter(0,nVXDHits))\n",
      "\u001b[m[INFO] ep_ndf                               --> daughter(0,daughter(0,ndf))\n",
      "\u001b[m[INFO] ep_p                                 --> daughter(0,daughter(0,p))\n",
      "\u001b[m[INFO] ep_pValue                            --> daughter(0,daughter(0,pValue))\n"
     ]
    },
    {
     "name": "stdout",
     "output_type": "stream",
     "text": [
      "\u001b[m[INFO] ep_pionID                            --> daughter(0,daughter(0,pionID))\n",
      "\u001b[m[INFO] ep_protonID                          --> daughter(0,daughter(0,protonID))\n",
      "\u001b[m[INFO] ep_pt                                --> daughter(0,daughter(0,pt))\n",
      "\u001b[m[INFO] ep_px                                --> daughter(0,daughter(0,px))\n",
      "\u001b[m[INFO] ep_py                                --> daughter(0,daughter(0,py))\n",
      "\u001b[m[INFO] ep_pz                                --> daughter(0,daughter(0,pz))\n",
      "\u001b[m[INFO] ep_z0                                --> daughter(0,daughter(0,z0))\n",
      "\u001b[m[INFO] goodBRLGamma                         --> passesCut(clusterReg == 2 and clusterE > 0.05)\n",
      "\u001b[m[INFO] goodBWDGamma                         --> passesCut(clusterReg == 3 and clusterE > 0.1)\n",
      "\u001b[m[INFO] goodFWDGamma                         --> passesCut(clusterReg == 1 and clusterE > 0.075)\n",
      "\u001b[m[INFO] goodGamma                            --> passesCut(goodFWDGamma or goodBRLGamma or goodBWDGamma)\n",
      "\u001b[m[INFO] hasTrueTargetElectron                --> hasTrueTargets(Electron)\n",
      "\u001b[m[INFO] hasTrueTargetFSC                     --> hasTrueTargets(FSC)\n",
      "\u001b[m[INFO] hasTrueTargetFastHadron              --> hasTrueTargets(FastHadron)\n",
      "\u001b[m[INFO] hasTrueTargetIntermediateElectron    --> hasTrueTargets(IntermediateElectron)\n",
      "\u001b[m[INFO] hasTrueTargetIntermediateKinLepton   --> hasTrueTargets(IntermediateKinLepton)\n",
      "\u001b[m[INFO] hasTrueTargetIntermediateMuon        --> hasTrueTargets(IntermediateMuon)\n",
      "\u001b[m[INFO] hasTrueTargetKaon                    --> hasTrueTargets(Kaon)\n",
      "\u001b[m[INFO] hasTrueTargetKaonPion                --> hasTrueTargets(KaonPion)\n",
      "\u001b[m[INFO] hasTrueTargetKinLepton               --> hasTrueTargets(KinLepton)\n",
      "\u001b[m[INFO] hasTrueTargetLambda                  --> hasTrueTargets(Lambda)\n",
      "\u001b[m[INFO] hasTrueTargetMaximumPstar            --> hasTrueTargets(MaximumPstar)\n",
      "\u001b[m[INFO] hasTrueTargetMuon                    --> hasTrueTargets(Muon)\n",
      "\u001b[m[INFO] hasTrueTargetSlowPion                --> hasTrueTargets(SlowPion)\n",
      "\u001b[m[INFO] isBremsCorrected                     --> extraInfo(bremsCorrected)\n",
      "\u001b[m[INFO] isRightCategoryElectron              --> isTrueFTCategory(Electron)\n",
      "\u001b[m[INFO] isRightCategoryFSC                   --> isTrueFTCategory(FSC)\n",
      "\u001b[m[INFO] isRightCategoryFastHadron            --> isTrueFTCategory(FastHadron)\n",
      "\u001b[m[INFO] isRightCategoryIntermediateElectron  --> isTrueFTCategory(IntermediateElectron)\n",
      "\u001b[m[INFO] isRightCategoryIntermediateKinLepton --> isTrueFTCategory(IntermediateKinLepton)\n",
      "\u001b[m[INFO] isRightCategoryIntermediateMuon      --> isTrueFTCategory(IntermediateMuon)\n",
      "\u001b[m[INFO] isRightCategoryKaon                  --> isTrueFTCategory(Kaon)\n",
      "\u001b[m[INFO] isRightCategoryKaonPion              --> isTrueFTCategory(KaonPion)\n",
      "\u001b[m[INFO] isRightCategoryKinLepton             --> isTrueFTCategory(KinLepton)\n",
      "\u001b[m[INFO] isRightCategoryLambda                --> isTrueFTCategory(Lambda)\n",
      "\u001b[m[INFO] isRightCategoryMaximumPstar          --> isTrueFTCategory(MaximumPstar)\n",
      "\u001b[m[INFO] isRightCategoryMuon                  --> isTrueFTCategory(Muon)\n",
      "\u001b[m[INFO] isRightCategorySlowPion              --> isTrueFTCategory(SlowPion)\n",
      "\u001b[m[INFO] muid_ARICH                           --> ifNANgiveX(pidPairProbabilityExpert(13, 211, ARICH), 0.5)\n",
      "\u001b[m[INFO] muid_KLM                             --> ifNANgiveX(pidPairProbabilityExpert(13, 211, KLM), 0.5)\n",
      "\u001b[m[INFO] muid_TOP                             --> ifNANgiveX(pidPairProbabilityExpert(13, 211, TOP), 0.5)\n",
      "\u001b[m[INFO] muid_dEdx                            --> ifNANgiveX(pidPairProbabilityExpert(13, 211, CDC), 0.5)\n",
      "\u001b[m[INFO] pi_vs_edEdxid                        --> ifNANgiveX(pidPairProbabilityExpert(211, 11, CDC), 0.5)\n",
      "\u001b[m[INFO] piid_ARICH                           --> ifNANgiveX(pidPairProbabilityExpert(211, 321, ARICH), 0.5)\n",
      "\u001b[m[INFO] piid_TOP                             --> ifNANgiveX(pidPairProbabilityExpert(211, 321, TOP), 0.5)\n",
      "\u001b[m[INFO] piid_dEdx                            --> ifNANgiveX(pidPairProbabilityExpert(211, 321, CDC), 0.5)\n",
      "\u001b[m[INFO] pim_E                                --> daughter(1,daughter(1,E))\n",
      "\u001b[m[INFO] pim_d0                               --> daughter(1,daughter(1,d0))\n",
      "\u001b[m[INFO] pim_deuteronID                       --> daughter(1,daughter(1,deuteronID))\n",
      "\u001b[m[INFO] pim_dr                               --> daughter(1,daughter(1,dr))\n",
      "\u001b[m[INFO] pim_dx                               --> daughter(1,daughter(1,dx))\n",
      "\u001b[m[INFO] pim_dy                               --> daughter(1,daughter(1,dy))\n",
      "\u001b[m[INFO] pim_dz                               --> daughter(1,daughter(1,dz))\n",
      "\u001b[m[INFO] pim_electronID                       --> daughter(1,daughter(1,electronID))\n",
      "\u001b[m[INFO] pim_isSignal                         --> daughter(1,daughter(1,isSignal))\n",
      "\u001b[m[INFO] pim_kaonID                           --> daughter(1,daughter(1,kaonID))\n",
      "\u001b[m[INFO] pim_mcE                              --> daughter(1,daughter(1,mcE))\n",
      "\u001b[m[INFO] pim_mcErrors                         --> daughter(1,daughter(1,mcErrors))\n",
      "\u001b[m[INFO] pim_mcP                              --> daughter(1,daughter(1,mcP))\n",
      "\u001b[m[INFO] pim_mcPDG                            --> daughter(1,daughter(1,mcPDG))\n",
      "\u001b[m[INFO] pim_mcPT                             --> daughter(1,daughter(1,mcPT))\n",
      "\u001b[m[INFO] pim_mcPX                             --> daughter(1,daughter(1,mcPX))\n",
      "\u001b[m[INFO] pim_mcPY                             --> daughter(1,daughter(1,mcPY))\n",
      "\u001b[m[INFO] pim_mcPZ                             --> daughter(1,daughter(1,mcPZ))\n",
      "\u001b[m[INFO] pim_mcPhi                            --> daughter(1,daughter(1,mcPhi))\n",
      "\u001b[m[INFO] pim_muonID                           --> daughter(1,daughter(1,muonID))\n",
      "\u001b[m[INFO] pim_nCDCHits                         --> daughter(1,daughter(1,nCDCHits))\n",
      "\u001b[m[INFO] pim_nPXDHits                         --> daughter(1,daughter(1,nPXDHits))\n",
      "\u001b[m[INFO] pim_nSVDHits                         --> daughter(1,daughter(1,nSVDHits))\n",
      "\u001b[m[INFO] pim_nVXDHits                         --> daughter(1,daughter(1,nVXDHits))\n",
      "\u001b[m[INFO] pim_ndf                              --> daughter(1,daughter(1,ndf))\n",
      "\u001b[m[INFO] pim_p                                --> daughter(1,daughter(1,p))\n",
      "\u001b[m[INFO] pim_pValue                           --> daughter(1,daughter(1,pValue))\n",
      "\u001b[m[INFO] pim_pionID                           --> daughter(1,daughter(1,pionID))\n",
      "\u001b[m[INFO] pim_protonID                         --> daughter(1,daughter(1,protonID))\n",
      "\u001b[m[INFO] pim_pt                               --> daughter(1,daughter(1,pt))\n",
      "\u001b[m[INFO] pim_px                               --> daughter(1,daughter(1,px))\n",
      "\u001b[m[INFO] pim_py                               --> daughter(1,daughter(1,py))\n",
      "\u001b[m[INFO] pim_pz                               --> daughter(1,daughter(1,pz))\n",
      "\u001b[m[INFO] pim_z0                               --> daughter(1,daughter(1,z0))\n",
      "\u001b[m[INFO] pip_E                                --> daughter(1,daughter(0,E))\n",
      "\u001b[m[INFO] pip_d0                               --> daughter(1,daughter(0,d0))\n",
      "\u001b[m[INFO] pip_deuteronID                       --> daughter(1,daughter(0,deuteronID))\n",
      "\u001b[m[INFO] pip_dr                               --> daughter(1,daughter(0,dr))\n",
      "\u001b[m[INFO] pip_dx                               --> daughter(1,daughter(0,dx))\n",
      "\u001b[m[INFO] pip_dy                               --> daughter(1,daughter(0,dy))\n",
      "\u001b[m[INFO] pip_dz                               --> daughter(1,daughter(0,dz))\n",
      "\u001b[m[INFO] pip_electronID                       --> daughter(1,daughter(0,electronID))\n",
      "\u001b[m[INFO] pip_isSignal                         --> daughter(1,daughter(0,isSignal))\n",
      "\u001b[m[INFO] pip_kaonID                           --> daughter(1,daughter(0,kaonID))\n",
      "\u001b[m[INFO] pip_mcE                              --> daughter(1,daughter(0,mcE))\n",
      "\u001b[m[INFO] pip_mcErrors                         --> daughter(1,daughter(0,mcErrors))\n",
      "\u001b[m[INFO] pip_mcP                              --> daughter(1,daughter(0,mcP))\n",
      "\u001b[m[INFO] pip_mcPDG                            --> daughter(1,daughter(0,mcPDG))\n",
      "\u001b[m[INFO] pip_mcPT                             --> daughter(1,daughter(0,mcPT))\n",
      "\u001b[m[INFO] pip_mcPX                             --> daughter(1,daughter(0,mcPX))\n",
      "\u001b[m[INFO] pip_mcPY                             --> daughter(1,daughter(0,mcPY))\n",
      "\u001b[m[INFO] pip_mcPZ                             --> daughter(1,daughter(0,mcPZ))\n",
      "\u001b[m[INFO] pip_mcPhi                            --> daughter(1,daughter(0,mcPhi))\n"
     ]
    },
    {
     "name": "stdout",
     "output_type": "stream",
     "text": [
      "\u001b[m[INFO] pip_muonID                           --> daughter(1,daughter(0,muonID))\n",
      "\u001b[m[INFO] pip_nCDCHits                         --> daughter(1,daughter(0,nCDCHits))\n",
      "\u001b[m[INFO] pip_nPXDHits                         --> daughter(1,daughter(0,nPXDHits))\n",
      "\u001b[m[INFO] pip_nSVDHits                         --> daughter(1,daughter(0,nSVDHits))\n",
      "\u001b[m[INFO] pip_nVXDHits                         --> daughter(1,daughter(0,nVXDHits))\n",
      "\u001b[m[INFO] pip_ndf                              --> daughter(1,daughter(0,ndf))\n",
      "\u001b[m[INFO] pip_p                                --> daughter(1,daughter(0,p))\n",
      "\u001b[m[INFO] pip_pValue                           --> daughter(1,daughter(0,pValue))\n",
      "\u001b[m[INFO] pip_pionID                           --> daughter(1,daughter(0,pionID))\n",
      "\u001b[m[INFO] pip_protonID                         --> daughter(1,daughter(0,protonID))\n",
      "\u001b[m[INFO] pip_pt                               --> daughter(1,daughter(0,pt))\n",
      "\u001b[m[INFO] pip_px                               --> daughter(1,daughter(0,px))\n",
      "\u001b[m[INFO] pip_py                               --> daughter(1,daughter(0,py))\n",
      "\u001b[m[INFO] pip_pz                               --> daughter(1,daughter(0,pz))\n",
      "\u001b[m[INFO] pip_z0                               --> daughter(1,daughter(0,z0))\n",
      "\u001b[m[INFO] qpElectron                           --> qpCategory(Electron)\n",
      "\u001b[m[INFO] qpFSC                                --> qpCategory(FSC)\n",
      "\u001b[m[INFO] qpFastHadron                         --> qpCategory(FastHadron)\n",
      "\u001b[m[INFO] qpIntermediateElectron               --> qpCategory(IntermediateElectron)\n",
      "\u001b[m[INFO] qpIntermediateKinLepton              --> qpCategory(IntermediateKinLepton)\n",
      "\u001b[m[INFO] qpIntermediateMuon                   --> qpCategory(IntermediateMuon)\n",
      "\u001b[m[INFO] qpKaon                               --> qpCategory(Kaon)\n",
      "\u001b[m[INFO] qpKaonPion                           --> qpCategory(KaonPion)\n",
      "\u001b[m[INFO] qpKinLepton                          --> qpCategory(KinLepton)\n",
      "\u001b[m[INFO] qpLambda                             --> qpCategory(Lambda)\n",
      "\u001b[m[INFO] qpMaximumPstar                       --> qpCategory(MaximumPstar)\n",
      "\u001b[m[INFO] qpMuon                               --> qpCategory(Muon)\n",
      "\u001b[m[INFO] qpSlowPion                           --> qpCategory(SlowPion)\n",
      "\u001b[m[INFO] qrMC                                 --> isRelatedRestOfEventB0Flavor\n",
      "\u001b[m[INFO] withBremsCorrection                  --> passesCut(passesCut(ep_isBremsCorrected == 1) or passesCut(em_isBremsCorrected == 1))\n",
      "\u001b[m[INFO] =====================================\n",
      "\u001b[m"
     ]
    }
   ],
   "source": [
    "from variables import variables as vm\n",
    "vm.printAliases()"
   ]
  },
  {
   "cell_type": "markdown",
   "metadata": {},
   "source": [
    "Now, we are good to go!"
   ]
  },
  {
   "cell_type": "code",
   "execution_count": 23,
   "metadata": {},
   "outputs": [],
   "source": [
    "filename = f\"Bd2JpsiKS_{filenumber}.root\"\n",
    "# store results in a root file\n",
    "ma.variablesToNtuple(\n",
    "    decayString=\"B0\", variables=b_vars,\n",
    "    filename=filename,\n",
    "    treename=\"tree\",\n",
    "    path=main\n",
    ")"
   ]
  },
  {
   "cell_type": "markdown",
   "metadata": {},
   "source": [
    "## Perform processing"
   ]
  },
  {
   "cell_type": "code",
   "execution_count": 24,
   "metadata": {
    "scrolled": true
   },
   "outputs": [
    {
     "name": "stdout",
     "output_type": "stream",
     "text": [
      "Storing results in Bd2JpsiKS_1.root...\n"
     ]
    },
    {
     "data": {
      "application/vnd.jupyter.widget-view+json": {
       "model_id": "fb2e39410abe495ba073777e9a3593a8",
       "version_major": 2,
       "version_minor": 0
      },
      "text/plain": [
       "VBox(children=(FloatProgress(value=0.0, layout=Layout(height='40px', width='100%'), max=1.0), Label(value=''))…"
      ]
     },
     "metadata": {},
     "output_type": "display_data"
    },
    {
     "data": {
      "application/vnd.jupyter.widget-view+json": {
       "model_id": "1eaf3652162c4863a9df925b708a8a4a",
       "version_major": 2,
       "version_minor": 0
      },
      "text/plain": [
       "VBox(children=(HBox(children=(HTML(value='<a onclick=\"$(\\'.log-line-debug\\').hide();\\n                        …"
      ]
     },
     "metadata": {},
     "output_type": "display_data"
    },
    {
     "data": {
      "text/plain": [
       "<hep_ipython_tools.ipython_handler_basf2.calculation.Basf2Calculation at 0x7f7d0d7ed080>"
      ]
     },
     "execution_count": 24,
     "metadata": {},
     "output_type": "execute_result"
    }
   ],
   "source": [
    "# Start the event loop (actually start processing things)\n",
    "print(f\"Storing results in {filename}...\")\n",
    "b2.process(main)"
   ]
  },
  {
   "cell_type": "code",
   "execution_count": null,
   "metadata": {},
   "outputs": [],
   "source": []
  }
 ],
 "metadata": {
  "kernelspec": {
   "display_name": "Python 3 (Belle2)",
   "language": "python",
   "name": "python3"
  },
  "language_info": {
   "codemirror_mode": {
    "name": "ipython",
    "version": 3
   },
   "file_extension": ".py",
   "mimetype": "text/x-python",
   "name": "python",
   "nbconvert_exporter": "python",
   "pygments_lexer": "ipython3",
   "version": "3.6.10"
  }
 },
 "nbformat": 4,
 "nbformat_minor": 4
}
