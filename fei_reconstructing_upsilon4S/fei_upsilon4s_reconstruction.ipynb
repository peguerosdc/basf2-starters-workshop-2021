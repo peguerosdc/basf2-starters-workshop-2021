{
 "cells": [
  {
   "cell_type": "markdown",
   "metadata": {},
   "source": [
    "# Reconstructing the full ϒ(4S) event\n",
    "In this part of the lesson, we will reconstruct the full ϒ(4S) event using the FEI. The B0 decay process we will be looking at is the semileptonic decay to a charged pion, a muon and a muon neutrino."
   ]
  },
  {
   "cell_type": "code",
   "execution_count": 1,
   "metadata": {},
   "outputs": [
    {
     "name": "stdout",
     "output_type": "stream",
     "text": [
      "Welcome to JupyROOT 6.20/04\n"
     ]
    }
   ],
   "source": [
    "import basf2 as b2\n",
    "import modularAnalysis as ma\n",
    "from variables import variables as vm"
   ]
  },
  {
   "cell_type": "markdown",
   "metadata": {},
   "source": [
    "Import a dataset with a pre-applied FEI (known as \"skim\"s) which already contains constructed `B0:generic` particles."
   ]
  },
  {
   "cell_type": "code",
   "execution_count": 2,
   "metadata": {},
   "outputs": [],
   "source": [
    "main = b2.Path()\n",
    "\n",
    "ma.inputMdst(\n",
    "    \"default\",\n",
    "    b2.find_file(\"starterkit/2021/fei_skimmed_xulnu.udst.root\", \"examples\"),\n",
    "    path=main,\n",
    ")"
   ]
  },
  {
   "cell_type": "markdown",
   "metadata": {},
   "source": [
    "Now, fill the particle lists with muons and charged pions"
   ]
  },
  {
   "cell_type": "code",
   "execution_count": 3,
   "metadata": {},
   "outputs": [],
   "source": [
    "good_track = (\n",
    "    \" and dr < 0.5 and abs(dz) < 2 and nCDCHits > 20 and thetaInCDCAcceptance\"\n",
    ")\n",
    "\n",
    "ma.fillParticleList(\"mu-\", \"muonID > 0.9\" + good_track, path=main)\n",
    "ma.fillParticleList(\"pi-\", \"pionID > 0.5\" + good_track, path=main)"
   ]
  },
  {
   "cell_type": "markdown",
   "metadata": {},
   "source": [
    "Now, we will create the signal B meson. As this semileptonic decay contains a neutrino (which can't be seen by the Belle 2 detector), we need to tell the MC matching algorithm to accept missing neutrinos to avoid discrepancy between the simulated and reconstructed decays (causing `isSignal` to be zero)."
   ]
  },
  {
   "cell_type": "code",
   "execution_count": 4,
   "metadata": {},
   "outputs": [],
   "source": [
    "ma.reconstructDecay(\"B0:signal -> pi- mu+ ?nu\", cut=\"\", path=main)"
   ]
  },
  {
   "cell_type": "markdown",
   "metadata": {},
   "source": [
    "Now we can use the reconstructed B0 signal (in fact, we will use it's anti-particle) and the B0 from the FEI `B0:generic` to reconstruct the Upsilon(4S):"
   ]
  },
  {
   "cell_type": "code",
   "execution_count": 5,
   "metadata": {},
   "outputs": [],
   "source": [
    "ma.reconstructDecay(\n",
    "    \"Upsilon(4S):opposite_cp -> B0:generic anti-B0:signal\", cut=\"\", path=main\n",
    ")\n",
    "ma.reconstructDecay(\n",
    "    decayString=\"Upsilon(4S):same_cp -> B0:generic B0:signal\",\n",
    "    cut=\"\",\n",
    "    path=main,\n",
    ")\n",
    "# Combine the two Upsilon(4S) lists to one. Note: Duplicates are removed.\n",
    "ma.copyLists(\n",
    "    outputListName=\"Upsilon(4S)\",\n",
    "    inputListNames=[\"Upsilon(4S):opposite_cp\", \"Upsilon(4S):same_cp\"],\n",
    "    path=main,\n",
    ")"
   ]
  },
  {
   "cell_type": "markdown",
   "metadata": {},
   "source": [
    "Re-create the Rest of Event (ROE) around the newly reconstructed Upsilon(4S)"
   ]
  },
  {
   "cell_type": "code",
   "execution_count": 6,
   "metadata": {},
   "outputs": [],
   "source": [
    "ma.buildRestOfEvent(\"Upsilon(4S)\", path=main)\n",
    "track_based_cuts = \"thetaInCDCAcceptance and pt > 0.075 and dr < 2 and abs(dz) < 4\"\n",
    "ecl_based_cuts = \"thetaInCDCAcceptance and E > 0.05\"\n",
    "roe_mask = (\"my_mask\", track_based_cuts, ecl_based_cuts)\n",
    "ma.appendROEMasks(\"Upsilon(4S)\", [roe_mask], path=main)"
   ]
  },
  {
   "cell_type": "markdown",
   "metadata": {},
   "source": [
    "Finally, we add MC matching to the Upsilon(4S) and we will add useful variables to see how well the reconstruction process went"
   ]
  },
  {
   "cell_type": "code",
   "execution_count": 7,
   "metadata": {},
   "outputs": [],
   "source": [
    "ma.matchMCTruth(list_name=\"Upsilon(4S)\", path=main)\n",
    "\n",
    "vm.addAlias(\"Btag_SigProb\", \"daughter(0, extraInfo(SignalProbability))\")\n",
    "vm.addAlias(\"Btag_decayModeID\", \"daughter(0, extraInfo(decayModeID))\")\n",
    "vm.addAlias(\"Btag_Mbc\", \"daughter(0, Mbc)\")\n",
    "\n",
    "vm.addAlias(\"Bsig_isSignal\",\n",
    "            \"daughter(1, isSignal)\")\n",
    "vm.addAlias(\"nCharged\", \"nROE_Charged(my_mask)\")\n",
    "\n",
    "ma.variablesToNtuple(\n",
    "    \"Upsilon(4S)\",\n",
    "    variables=[\n",
    "        \"Btag_SigProb\",\n",
    "        \"Btag_decayModeID\",\n",
    "        \"Btag_Mbc\",\n",
    "        \"Bsig_isSignal\",\n",
    "        \"isSignal\",\n",
    "        \"m2RecoilSignalSide\",\n",
    "        \"nCharged\"\n",
    "    ],\n",
    "    filename='Upsilon4S.root',\n",
    "    path=main,\n",
    ")"
   ]
  },
  {
   "cell_type": "code",
   "execution_count": 8,
   "metadata": {},
   "outputs": [
    {
     "data": {
      "application/vnd.jupyter.widget-view+json": {
       "model_id": "d3608319527f4f39ae09e2cb9f9d372d",
       "version_major": 2,
       "version_minor": 0
      },
      "text/plain": [
       "VBox(children=(FloatProgress(value=0.0, layout=Layout(height='40px', width='100%'), max=1.0), Label(value=''))…"
      ]
     },
     "metadata": {},
     "output_type": "display_data"
    },
    {
     "data": {
      "application/vnd.jupyter.widget-view+json": {
       "model_id": "2176cd9ff87e4c63911a4a81285f3757",
       "version_major": 2,
       "version_minor": 0
      },
      "text/plain": [
       "VBox(children=(HBox(children=(HTML(value='<a onclick=\"$(\\'.log-line-debug\\').hide();\\n                        …"
      ]
     },
     "metadata": {},
     "output_type": "display_data"
    },
    {
     "data": {
      "text/plain": [
       "<hep_ipython_tools.ipython_handler_basf2.calculation.Basf2Calculation at 0x7f8f1ee8e9b0>"
      ]
     },
     "execution_count": 8,
     "metadata": {},
     "output_type": "execute_result"
    }
   ],
   "source": [
    "# Process events\n",
    "b2.process(main)"
   ]
  }
 ],
 "metadata": {
  "kernelspec": {
   "display_name": "Python 3 (Belle2)",
   "language": "python",
   "name": "python3"
  },
  "language_info": {
   "codemirror_mode": {
    "name": "ipython",
    "version": 3
   },
   "file_extension": ".py",
   "mimetype": "text/x-python",
   "name": "python",
   "nbconvert_exporter": "python",
   "pygments_lexer": "ipython3",
   "version": "3.6.10"
  }
 },
 "nbformat": 4,
 "nbformat_minor": 4
}
